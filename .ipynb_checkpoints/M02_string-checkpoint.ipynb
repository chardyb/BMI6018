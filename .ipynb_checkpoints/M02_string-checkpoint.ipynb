{
 "cells": [
  {
   "cell_type": "markdown",
   "id": "6615aed0-9a76-493f-87b0-40f29370d395",
   "metadata": {},
   "source": [
    "# Strings"
   ]
  },
  {
   "cell_type": "code",
   "execution_count": null,
   "id": "608e9f68-2a1d-4cf9-aed3-aa6655ffc0b7",
   "metadata": {
    "tags": []
   },
   "outputs": [],
   "source": [
    "print('Hi, how are you?')"
   ]
  },
  {
   "cell_type": "code",
   "execution_count": null,
   "id": "c517a0f4-5325-444d-b7e7-859f7b83bb8e",
   "metadata": {
    "tags": []
   },
   "outputs": [],
   "source": [
    "print(\"Hi, how are you?\")"
   ]
  },
  {
   "cell_type": "code",
   "execution_count": null,
   "id": "96c1ba40-b2f7-46de-b586-3b35a61f3121",
   "metadata": {
    "tags": []
   },
   "outputs": [],
   "source": [
    "print('Hi, how are you?\")"
   ]
  },
  {
   "cell_type": "code",
   "execution_count": null,
   "id": "cd731db9-4d9c-4580-9f4d-4f805cda6dee",
   "metadata": {
    "tags": []
   },
   "outputs": [],
   "source": [
    "print('Hi,', 'how are you?')"
   ]
  },
  {
   "cell_type": "code",
   "execution_count": null,
   "id": "4d75d623-eff7-4d55-8878-b81fc79d2380",
   "metadata": {
    "tags": []
   },
   "outputs": [],
   "source": [
    "x = 5\n",
    "print('I have', x, 'patients')"
   ]
  },
  {
   "cell_type": "code",
   "execution_count": null,
   "id": "52299d3a-9d7e-45bd-9be5-47bd6f288ba3",
   "metadata": {
    "tags": []
   },
   "outputs": [],
   "source": [
    "print('I have' + x + 'patients')"
   ]
  },
  {
   "cell_type": "code",
   "execution_count": null,
   "id": "8e05c3ac-2bb3-4ff6-8cc7-1148f7bdd3f8",
   "metadata": {
    "tags": []
   },
   "outputs": [],
   "source": [
    "print('I have ' + str(x) + ' patients')"
   ]
  },
  {
   "cell_type": "markdown",
   "id": "6ca3ba8b-de99-4a6b-92da-3119ffb68995",
   "metadata": {},
   "source": [
    "## Strings as Lists"
   ]
  },
  {
   "cell_type": "code",
   "execution_count": null,
   "id": "339be6e5-ce6c-4950-8f71-b13e24a43e42",
   "metadata": {
    "tags": []
   },
   "outputs": [],
   "source": [
    "diagnosis = 'acute resporatory failure'\n",
    "print(diagnosis[0])\n",
    "print(diagnosis[1])"
   ]
  },
  {
   "cell_type": "code",
   "execution_count": null,
   "id": "df5a417d-547a-4778-b6e9-b650cb908bba",
   "metadata": {
    "tags": []
   },
   "outputs": [],
   "source": [
    "print(diagnosis[-1])"
   ]
  },
  {
   "cell_type": "markdown",
   "id": "0155ea7e-52a0-4faf-9fd1-9198be2b70d7",
   "metadata": {},
   "source": [
    "**Note:**\n",
    "\n",
    "Python starts indexing/counting at 0. If we want to access the 1st element of a string, we use 0.\n",
    "\n",
    "The [ ] is how we access elements of a string or list.\n",
    "\n",
    "Can 'slice' a string using [begin index: end index+1]"
   ]
  },
  {
   "cell_type": "code",
   "execution_count": null,
   "id": "8f578bb5-3cc7-4453-a887-fae5d90fb159",
   "metadata": {
    "tags": []
   },
   "outputs": [],
   "source": [
    "print(diagnosis[0:7])"
   ]
  },
  {
   "cell_type": "code",
   "execution_count": null,
   "id": "dc5d487b-0459-436a-be5a-5a92cdd69199",
   "metadata": {
    "tags": []
   },
   "outputs": [],
   "source": [
    "print(diagnosis[2:-2])"
   ]
  },
  {
   "cell_type": "code",
   "execution_count": null,
   "id": "1cc34d16-ca9b-451b-89d8-beaaa6075fcf",
   "metadata": {
    "tags": []
   },
   "outputs": [],
   "source": [
    "#fix typo\n",
    "diagnosis[10] = 'i'"
   ]
  },
  {
   "cell_type": "code",
   "execution_count": null,
   "id": "50380c65-86d5-4bf5-a294-0996abd6b74c",
   "metadata": {
    "tags": []
   },
   "outputs": [],
   "source": [
    "diagnosis = 'Acute Respiratory Failure'"
   ]
  },
  {
   "cell_type": "markdown",
   "id": "fa177472-91e5-4dfd-ac08-07aa6cdcce1a",
   "metadata": {},
   "source": [
    "# Some string methods"
   ]
  },
  {
   "cell_type": "code",
   "execution_count": null,
   "id": "b09eff23-f63e-4827-9523-b7f84a85b372",
   "metadata": {
    "tags": []
   },
   "outputs": [],
   "source": [
    "x = diagnosis\n",
    "x"
   ]
  },
  {
   "cell_type": "code",
   "execution_count": null,
   "id": "87687bfb-f0a1-4f26-8c82-e44ae56296c1",
   "metadata": {
    "tags": []
   },
   "outputs": [],
   "source": [
    "x = x.replace('i', 'o')\n",
    "print(x)"
   ]
  },
  {
   "cell_type": "markdown",
   "id": "ee129b75-ffc1-40b2-b043-593fe7643b89",
   "metadata": {},
   "source": [
    "**Note:**\n",
    "\n",
    "Method is access through the dot operator. E.g. x.replace()\n",
    "\n",
    "Function is not. E.g. print()"
   ]
  },
  {
   "cell_type": "code",
   "execution_count": null,
   "id": "9a8c6f46-1d7f-44d2-ab27-c3b27ddf44d3",
   "metadata": {
    "tags": []
   },
   "outputs": [],
   "source": [
    "print(x.upper())\n",
    "print(x.lower())\n",
    "print(x)"
   ]
  },
  {
   "cell_type": "code",
   "execution_count": null,
   "id": "fb0a9f41-01a6-4bc8-a11d-089019433967",
   "metadata": {
    "tags": []
   },
   "outputs": [],
   "source": [
    "x.isupper()"
   ]
  },
  {
   "cell_type": "code",
   "execution_count": null,
   "id": "5bd45c9f-40d1-48bb-8c8e-434f4e4a553f",
   "metadata": {
    "tags": []
   },
   "outputs": [],
   "source": [
    "x.islower()"
   ]
  },
  {
   "cell_type": "code",
   "execution_count": null,
   "id": "8027c691-1229-48c1-95f6-346a014a6eb5",
   "metadata": {
    "tags": []
   },
   "outputs": [],
   "source": [
    "x.upper().isupper()"
   ]
  },
  {
   "cell_type": "code",
   "execution_count": null,
   "id": "30d767f5-5300-493e-a06f-185e45b6051e",
   "metadata": {
    "tags": []
   },
   "outputs": [],
   "source": [
    "x"
   ]
  },
  {
   "cell_type": "markdown",
   "id": "aca528f3-305b-4f7f-8a72-6652bc56d151",
   "metadata": {},
   "source": [
    "## Help function"
   ]
  },
  {
   "cell_type": "code",
   "execution_count": null,
   "id": "918d64cd-46db-4731-8a59-b8103905be50",
   "metadata": {
    "tags": []
   },
   "outputs": [],
   "source": [
    "#help on variable\n",
    "help(x)"
   ]
  },
  {
   "cell_type": "code",
   "execution_count": null,
   "id": "b5113b82-c7a3-45e0-bf61-0bed1fc52959",
   "metadata": {
    "tags": []
   },
   "outputs": [],
   "source": [
    "help(str)"
   ]
  },
  {
   "cell_type": "code",
   "execution_count": null,
   "id": "dd561297-ada5-4d51-b8cb-3b3802028c87",
   "metadata": {
    "tags": []
   },
   "outputs": [],
   "source": [
    "help(str.startswith)"
   ]
  },
  {
   "cell_type": "code",
   "execution_count": null,
   "id": "d78eaa12-c99e-48f3-a77e-f1f9def02d22",
   "metadata": {},
   "outputs": [],
   "source": [
    "x.startswith('Acute')"
   ]
  }
 ],
 "metadata": {
  "kernelspec": {
   "display_name": "Python 3 (ipykernel)",
   "language": "python",
   "name": "python3"
  },
  "language_info": {
   "codemirror_mode": {
    "name": "ipython",
    "version": 3
   },
   "file_extension": ".py",
   "mimetype": "text/x-python",
   "name": "python",
   "nbconvert_exporter": "python",
   "pygments_lexer": "ipython3",
   "version": "3.11.3"
  }
 },
 "nbformat": 4,
 "nbformat_minor": 5
}

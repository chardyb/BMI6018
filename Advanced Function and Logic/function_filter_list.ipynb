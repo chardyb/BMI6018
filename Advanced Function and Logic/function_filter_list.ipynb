{
 "cells": [
  {
   "cell_type": "code",
   "execution_count": null,
   "id": "451b6552",
   "metadata": {},
   "outputs": [],
   "source": [
    "#Write a python program that, given an input list, will filter the input above a user defined threshold. \n",
    "#This is to be done with a standard function."
   ]
  },
  {
   "cell_type": "code",
   "execution_count": null,
   "id": "4f5b5e9c",
   "metadata": {},
   "outputs": [],
   "source": [
    "#explination comments are under code they are explaining"
   ]
  },
  {
   "cell_type": "code",
   "execution_count": 11,
   "id": "115553bb",
   "metadata": {},
   "outputs": [],
   "source": [
    "def filter_list(input_list, argument):\n",
    "    \n",
    "    if len(input_list) > argument:\n",
    "    #this is a neccesary check to make sure we are not out of range of our list\n",
    "    \n",
    "        print(input_list[:argument])\n",
    "        #if our argument is within range we will slice the list, using the given argument, and print it\n",
    "        \n",
    "    else:\n",
    "        print(\"argument is out of range of the given list, give arugment within range.\")\n",
    "        #if the arugement given by the user is out of the range of the list, this print statement will be \n",
    "        #given, requesting a different argument within range."
   ]
  },
  {
   "cell_type": "code",
   "execution_count": 12,
   "id": "ed3ca68a",
   "metadata": {},
   "outputs": [],
   "source": [
    "given_list = [1,2,3,4,5,6,7,8,9]"
   ]
  },
  {
   "cell_type": "code",
   "execution_count": 13,
   "id": "f0f588fc",
   "metadata": {},
   "outputs": [
    {
     "name": "stdout",
     "output_type": "stream",
     "text": [
      "[1, 2, 3, 4, 5, 6]\n"
     ]
    }
   ],
   "source": [
    "#I call my function and input \"given_list\" and my choosen argument \"6\"\n",
    "#The function should check that the argument is in range, if yes it should slice it by the argument\n",
    "#The result should be the list [1,2,3,4,5,6]\n",
    "filter_list(given_list,6)"
   ]
  },
  {
   "cell_type": "code",
   "execution_count": null,
   "id": "3e8971ad",
   "metadata": {},
   "outputs": [],
   "source": []
  }
 ],
 "metadata": {
  "kernelspec": {
   "display_name": "Python 3 (ipykernel)",
   "language": "python",
   "name": "python3"
  },
  "language_info": {
   "codemirror_mode": {
    "name": "ipython",
    "version": 3
   },
   "file_extension": ".py",
   "mimetype": "text/x-python",
   "name": "python",
   "nbconvert_exporter": "python",
   "pygments_lexer": "ipython3",
   "version": "3.9.12"
  }
 },
 "nbformat": 4,
 "nbformat_minor": 5
}

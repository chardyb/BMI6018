{
 "cells": [
  {
   "cell_type": "code",
   "execution_count": null,
   "id": "9abfc621",
   "metadata": {},
   "outputs": [],
   "source": [
    "#Write a python program that, given an input list of any level of complexity/nestedness, will return the inner most\n",
    "#list plus 1. This is to be done with a while loop. Note: the input will contain only integers or lists. "
   ]
  },
  {
   "cell_type": "code",
   "execution_count": null,
   "id": "7ac6eb35",
   "metadata": {},
   "outputs": [],
   "source": [
    "#explination comments are under code they are explaining"
   ]
  },
  {
   "cell_type": "code",
   "execution_count": 7,
   "id": "5b86e99c",
   "metadata": {},
   "outputs": [],
   "source": [
    "def while_inner(input_list):\n",
    "    current_list = input_list\n",
    "    #current_list is the current level of the nested list we are on. Each iteration we update current_list to be\n",
    "    #the nested list until we find the most nested version.\n",
    "    \n",
    "    while any(isinstance(i, list) for i in current_list):\n",
    "    #this checks for a list in current_list\n",
    "    \n",
    "        for i in current_list:\n",
    "        #iterates over every item in current_list \n",
    "        \n",
    "            if isinstance(i, list):\n",
    "            #if i is a list then current_list is updated to i\n",
    "            \n",
    "                print(\"found list\",i)\n",
    "                current_list = i\n",
    "                #once the inner most list is found we break out of the loop \n",
    "                \n",
    "    for i in range(len(current_list)):\n",
    "    #we iterate over every item in current_list, which is now our inner most list\n",
    "    \n",
    "        current_list[i] += 1\n",
    "        #we add one to every element in current_list, which is our inner most list\n",
    "    \n",
    "    print(\"The final list with 1 added to each element is\", current_list)"
   ]
  },
  {
   "cell_type": "code",
   "execution_count": 8,
   "id": "b3d41c28",
   "metadata": {},
   "outputs": [],
   "source": [
    "#This is an example to test my function \n",
    "my_list = [1,2,3,4,[5,6,7,[8,9]]]"
   ]
  },
  {
   "cell_type": "code",
   "execution_count": 9,
   "id": "83ef8252",
   "metadata": {},
   "outputs": [
    {
     "name": "stdout",
     "output_type": "stream",
     "text": [
      "found list [5, 6, 7, [8, 9]]\n",
      "found list [8, 9]\n",
      "The final list with 1 added to each element is [9, 10]\n"
     ]
    }
   ],
   "source": [
    "#I call my function and input \"my_list\"\n",
    "#The result should be to add one to the elements 0 and 1 and then print that list\n",
    "#The result should be [1,2]\n",
    "while_inner(my_list)"
   ]
  },
  {
   "cell_type": "code",
   "execution_count": null,
   "id": "cce16fb7",
   "metadata": {},
   "outputs": [],
   "source": []
  }
 ],
 "metadata": {
  "kernelspec": {
   "display_name": "Python 3 (ipykernel)",
   "language": "python",
   "name": "python3"
  },
  "language_info": {
   "codemirror_mode": {
    "name": "ipython",
    "version": 3
   },
   "file_extension": ".py",
   "mimetype": "text/x-python",
   "name": "python",
   "nbconvert_exporter": "python",
   "pygments_lexer": "ipython3",
   "version": "3.9.12"
  }
 },
 "nbformat": 4,
 "nbformat_minor": 5
}

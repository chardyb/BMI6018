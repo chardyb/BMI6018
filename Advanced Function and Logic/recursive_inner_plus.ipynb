{
 "cells": [
  {
   "cell_type": "code",
   "execution_count": null,
   "id": "f8af7852",
   "metadata": {},
   "outputs": [],
   "source": [
    "#Write the a python program that, given an input list of any level of complexity/nestedness, will return the inner \n",
    "#most list plus 1. This is to be done with recursion. Note: the input will contain only integers or lists. "
   ]
  },
  {
   "cell_type": "code",
   "execution_count": null,
   "id": "9e9e3750",
   "metadata": {},
   "outputs": [],
   "source": [
    "#explination comments are under code they are explaining"
   ]
  },
  {
   "cell_type": "code",
   "execution_count": 4,
   "id": "34a03016",
   "metadata": {},
   "outputs": [],
   "source": [
    "def recursive_inner(input_list):\n",
    "    \n",
    "    inner_l = input_list\n",
    "    #ititalize list\n",
    "    \n",
    "    print(\"processing list\", inner_l)\n",
    "    #print a processing line to see where my function is at\n",
    "    \n",
    "    for i in range(len(inner_l)):\n",
    "    #iterate through the list\n",
    "    \n",
    "        if all(not isinstance(item, list) for item in inner_l):\n",
    "        #This is to check and see if we are in the final list\n",
    "        #we are checking to see if there are no list data types in the list we have\n",
    "        \n",
    "            for i in range(len(inner_l)):\n",
    "                inner_l[i]+=1\n",
    "                #if we are in the final nested list we will add one to each of the elements in the list\n",
    "                \n",
    "            print(\"Final list\")\n",
    "            print(\"The final list with 1 added to each element is\", inner_l)\n",
    "            return\n",
    "        \n",
    "        elif isinstance(inner_l[i], list):\n",
    "        #if we are not in the final nested list we will look for the next list\n",
    "        \n",
    "            print(\"found list\", inner_l[i])\n",
    "            recursive_inner(inner_l[i])\n",
    "            #we call our recursive function "
   ]
  },
  {
   "cell_type": "code",
   "execution_count": 5,
   "id": "50f6fea5",
   "metadata": {},
   "outputs": [],
   "source": [
    "#This is an example to test my function \n",
    "my_list = [1,2,3,4,[5,6,7,[8,9]]]"
   ]
  },
  {
   "cell_type": "code",
   "execution_count": 6,
   "id": "ee2f1add",
   "metadata": {},
   "outputs": [
    {
     "name": "stdout",
     "output_type": "stream",
     "text": [
      "processing list [1, 2, 3, 4, [5, 6, 7, [8, 9]]]\n",
      "found list [5, 6, 7, [8, 9]]\n",
      "processing list [5, 6, 7, [8, 9]]\n",
      "found list [8, 9]\n",
      "processing list [8, 9]\n",
      "Final list\n",
      "The final list with 1 added to each element is [9, 10]\n"
     ]
    }
   ],
   "source": [
    "#I call my function and input \"my_list\"\n",
    "#The result should be to add one to each element of the final list and print the list\n",
    "#The result should be [9,10]\n",
    "recursive_inner(my_list)"
   ]
  },
  {
   "cell_type": "code",
   "execution_count": null,
   "id": "bfe4d932",
   "metadata": {},
   "outputs": [],
   "source": []
  }
 ],
 "metadata": {
  "kernelspec": {
   "display_name": "Python 3 (ipykernel)",
   "language": "python",
   "name": "python3"
  },
  "language_info": {
   "codemirror_mode": {
    "name": "ipython",
    "version": 3
   },
   "file_extension": ".py",
   "mimetype": "text/x-python",
   "name": "python",
   "nbconvert_exporter": "python",
   "pygments_lexer": "ipython3",
   "version": "3.9.12"
  }
 },
 "nbformat": 4,
 "nbformat_minor": 5
}

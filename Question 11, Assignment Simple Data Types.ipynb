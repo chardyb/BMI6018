{
 "cells": [
  {
   "cell_type": "code",
   "execution_count": 1,
   "id": "f5b60a96",
   "metadata": {},
   "outputs": [],
   "source": [
    "# Booleans - Question 1"
   ]
  },
  {
   "cell_type": "code",
   "execution_count": 2,
   "id": "debc0b82",
   "metadata": {},
   "outputs": [],
   "source": [
    "# boolean True + boolean True - boolean False = ?"
   ]
  },
  {
   "cell_type": "code",
   "execution_count": 5,
   "id": "a244c278",
   "metadata": {},
   "outputs": [
    {
     "name": "stdout",
     "output_type": "stream",
     "text": [
      "2\n"
     ]
    }
   ],
   "source": [
    "print(int(True)+int(True)-int(False))"
   ]
  },
  {
   "cell_type": "code",
   "execution_count": 6,
   "id": "d9f874da",
   "metadata": {},
   "outputs": [],
   "source": [
    "# Booleans 2 - Question 2"
   ]
  },
  {
   "cell_type": "code",
   "execution_count": 79,
   "id": "e2feac1a",
   "metadata": {},
   "outputs": [],
   "source": [
    "logical_tracker = True"
   ]
  },
  {
   "cell_type": "code",
   "execution_count": 80,
   "id": "c8d89de5",
   "metadata": {},
   "outputs": [
    {
     "name": "stdout",
     "output_type": "stream",
     "text": [
      "<class 'bool'>\n"
     ]
    }
   ],
   "source": [
    "#confirming data type of \"logical_tracker\"\n",
    "print(type(logical_tracker))"
   ]
  },
  {
   "cell_type": "code",
   "execution_count": 81,
   "id": "6d4bc179",
   "metadata": {},
   "outputs": [
    {
     "data": {
      "text/plain": [
       "bool"
      ]
     },
     "execution_count": 81,
     "metadata": {},
     "output_type": "execute_result"
    }
   ],
   "source": [
    "logical_tracker = logical_tracker & logical_tracker\n",
    "#Confirm data type\n",
    "type(logical_tracker)"
   ]
  },
  {
   "cell_type": "code",
   "execution_count": 84,
   "id": "7641ed36",
   "metadata": {},
   "outputs": [
    {
     "data": {
      "text/plain": [
       "bool"
      ]
     },
     "execution_count": 84,
     "metadata": {},
     "output_type": "execute_result"
    }
   ],
   "source": [
    "logical_tracker = bool(logical_tracker | (logical_tracker - logical_tracker))\n",
    "#Confirm data type\n",
    "type(logical_tracker)"
   ]
  },
  {
   "cell_type": "code",
   "execution_count": 85,
   "id": "db597776",
   "metadata": {},
   "outputs": [
    {
     "name": "stdout",
     "output_type": "stream",
     "text": [
      "True\n"
     ]
    }
   ],
   "source": [
    "print(logical_tracker)"
   ]
  },
  {
   "cell_type": "code",
   "execution_count": null,
   "id": "8f5c9f03",
   "metadata": {},
   "outputs": [],
   "source": [
    "#The last assigned value of the logical tracker is True (1)."
   ]
  },
  {
   "cell_type": "code",
   "execution_count": null,
   "id": "53ddc2c3",
   "metadata": {},
   "outputs": [],
   "source": []
  },
  {
   "cell_type": "code",
   "execution_count": 13,
   "id": "e666659c",
   "metadata": {},
   "outputs": [],
   "source": [
    "# Strings - Question 5"
   ]
  },
  {
   "cell_type": "code",
   "execution_count": 16,
   "id": "72143622",
   "metadata": {},
   "outputs": [],
   "source": [
    "string = \"E. Coli\"\n",
    "#string[2]="
   ]
  },
  {
   "cell_type": "code",
   "execution_count": 17,
   "id": "93047f96",
   "metadata": {},
   "outputs": [],
   "source": [
    "# \" \" will be the answer"
   ]
  },
  {
   "cell_type": "code",
   "execution_count": 18,
   "id": "2cb80434",
   "metadata": {},
   "outputs": [
    {
     "name": "stdout",
     "output_type": "stream",
     "text": [
      " \n"
     ]
    }
   ],
   "source": [
    "print(string[2])"
   ]
  },
  {
   "cell_type": "code",
   "execution_count": 19,
   "id": "3afc5f69",
   "metadata": {},
   "outputs": [],
   "source": [
    "# Strings 2 - Question 6"
   ]
  },
  {
   "cell_type": "code",
   "execution_count": 24,
   "id": "cf9d5ebb",
   "metadata": {},
   "outputs": [],
   "source": [
    "#Oh no! My string has a typo!\n",
    "string = \"I Bove python\"\n",
    "#No worries though. I'll just fix that.\n",
    "#string[2] = \"L\""
   ]
  },
  {
   "cell_type": "code",
   "execution_count": 25,
   "id": "172bc795",
   "metadata": {},
   "outputs": [],
   "source": [
    "#no it won't work at all"
   ]
  },
  {
   "cell_type": "code",
   "execution_count": 26,
   "id": "2703653c",
   "metadata": {},
   "outputs": [],
   "source": [
    "# Operators 2 - Question 9"
   ]
  },
  {
   "cell_type": "code",
   "execution_count": null,
   "id": "24445d8a",
   "metadata": {},
   "outputs": [],
   "source": [
    "# Explain how the \"+\", addition operation works differently \n",
    "# for integers and strings"
   ]
  },
  {
   "cell_type": "code",
   "execution_count": 114,
   "id": "258d8d23",
   "metadata": {},
   "outputs": [
    {
     "name": "stdout",
     "output_type": "stream",
     "text": [
      "7\n",
      "25\n"
     ]
    }
   ],
   "source": [
    "# Assign two values integers\n",
    "a = 2\n",
    "b = 5\n",
    "c = a+b\n",
    "# Convert integers to strings\n",
    "d = str(a)\n",
    "e = str(b)\n",
    "f = d + e\n",
    "print(c)\n",
    "print(f)"
   ]
  },
  {
   "cell_type": "code",
   "execution_count": 117,
   "id": "456533d9",
   "metadata": {},
   "outputs": [
    {
     "name": "stdout",
     "output_type": "stream",
     "text": [
      "thank you\n"
     ]
    }
   ],
   "source": [
    "example = \"thank\" + \" you\"\n",
    "print(example)"
   ]
  },
  {
   "cell_type": "code",
   "execution_count": 36,
   "id": "009669ce",
   "metadata": {},
   "outputs": [],
   "source": [
    "# String 3 - Question 10"
   ]
  },
  {
   "cell_type": "code",
   "execution_count": null,
   "id": "14142bee",
   "metadata": {},
   "outputs": [],
   "source": [
    "# Type the output if the strings \"7\" and \"3\" are added"
   ]
  },
  {
   "cell_type": "code",
   "execution_count": 32,
   "id": "793d5306",
   "metadata": {},
   "outputs": [],
   "source": [
    "x = str(7)\n",
    "y = str(3)"
   ]
  },
  {
   "cell_type": "code",
   "execution_count": 33,
   "id": "13b28090",
   "metadata": {},
   "outputs": [
    {
     "name": "stdout",
     "output_type": "stream",
     "text": [
      "<class 'str'>\n",
      "<class 'str'>\n"
     ]
    }
   ],
   "source": [
    "# Confirming the data types are strings\n",
    "print(type(x))\n",
    "print(type(y))"
   ]
  },
  {
   "cell_type": "code",
   "execution_count": 34,
   "id": "dce3679c",
   "metadata": {},
   "outputs": [
    {
     "name": "stdout",
     "output_type": "stream",
     "text": [
      "73\n"
     ]
    }
   ],
   "source": [
    "print(x+y)"
   ]
  },
  {
   "cell_type": "code",
   "execution_count": null,
   "id": "5ae1ff63",
   "metadata": {},
   "outputs": [],
   "source": []
  }
 ],
 "metadata": {
  "kernelspec": {
   "display_name": "Python 3 (ipykernel)",
   "language": "python",
   "name": "python3"
  },
  "language_info": {
   "codemirror_mode": {
    "name": "ipython",
    "version": 3
   },
   "file_extension": ".py",
   "mimetype": "text/x-python",
   "name": "python",
   "nbconvert_exporter": "python",
   "pygments_lexer": "ipython3",
   "version": "3.9.12"
  }
 },
 "nbformat": 4,
 "nbformat_minor": 5
}

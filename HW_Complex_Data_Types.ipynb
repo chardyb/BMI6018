{
 "cells": [
  {
   "cell_type": "code",
   "execution_count": 5,
   "id": "43c61910",
   "metadata": {},
   "outputs": [
    {
     "name": "stdout",
     "output_type": "stream",
     "text": [
      "Assignment 3\n"
     ]
    }
   ],
   "source": [
    "\"\"\"BMI 6018 Fall 2022 \n",
    "\n",
    "Instructions: For this assignment, please return all answers as variables in your\n",
    ".py file. You will quickly note that you will need to find answers outside the\n",
    "class lectures. This is not an accident! You will need to become professionally\n",
    "comfortable with looking things up via the python docs and google. \n",
    "\n",
    "Ensure that all variables are labelled according to the example. IE the answer\n",
    "to problem 1 part c should be labelled one_c. While all questions are answerable\n",
    "with a single line of code, you are free to use helper variables so long as they\n",
    "are helpfully/informatively named. \n",
    "\n",
    "I should be able to open your .py file and run it without errors. I will **not** be \n",
    "debugging your code for you. If your file does not run, it will **not** be graded. \n",
    "If you are unsure if your file will run, open up a chpc terminal and test it there.\n",
    "\n",
    "For this assignment, please only use base python files types. That is: there \n",
    "should be no import calls in your file save my use of sys at the end.\n",
    "\n",
    "Example Problem\n",
    "\n",
    "0.a Create a list of strings\n",
    "0.b Using a str method, capitalize one of the elements in the list using a slice\n",
    "0.c Coerce one character of the list to display as a hex\n",
    "\n",
    "zero_a = ['first','second','third','fourth','fifth']\n",
    "zero_b = zero_a[1].upper()\n",
    "zero_c = hex(ord(zero_a[1][1]))\n",
    "\n",
    "#Problem 1: Lists, Sets and Coersion\n",
    "\n",
    "1.a Create a list of integers no fewer than 10 items from 0 to 9.\n",
    " .b Add 3 to the 5th indexed element\n",
    " .c Coerce all elements in the list to floats using list comprehension\n",
    " .d Coerce the list to a set\n",
    " .e Using a method, append int 10 to the set\n",
    " .f Using a method, pop an item from the set\n",
    " .g Using a length counting function, count the number of items in the set\n",
    " .h Check if the number of items in the set is the same as the \n",
    "    number of items in the list\n",
    " .i Coerce the set to a list and use the \"+\" operator combine the list to the list from 1.a\n",
    " .j Coerce 1.i to a set\n",
    " .k Count the number of elements in the 1.j\n",
    "\n",
    "\n",
    "\n",
    "Problem 2: Dictionary woes\n",
    "\n",
    "2.a Combine the three sample dictionaries (given below) into a nested dictionary (nested in programming means joined), named \n",
    "    two_a, ensure the key names are the same as the dictionary names.\n",
    " .b Using keys, retrieve the Dango's name from 2.a\n",
    " .c Using keys, update the value of Mochi's year to 2018. This should not be a variable\n",
    "    and should simply update 2.a.\n",
    " .d Manually create a dictionary that has a single level and contains each patient\n",
    "    as the key and the year as the value. Set Mochi's year to 2019.'\n",
    " .e Coerce the keys of 2.d into a list\n",
    " .f Coerce the values of 2.d into a list\n",
    " .g Use the zip function to combine 2.e and 2.f into a dictionary again\n",
    "\n",
    "\n",
    "two_patient_dictionary_kinoko = {\n",
    "  \"name\" : \"Kinoko\",\n",
    "  \"year\" : 2021\n",
    "}\n",
    "two_patient_dictionary_dango = {\n",
    "  \"name\" : \"Dango\",\n",
    "  \"year\" : 2019\n",
    "}\n",
    "two_patient_dictionary_mochi  = {\n",
    "  \"name\" : \"Mochi\",\n",
    "  \"year\" : 2020\n",
    "}\n",
    "\n",
    "\n",
    "\n",
    "Problem 3: Set combinations\n",
    "\n",
    "Given the predefined sets below and using set methods\n",
    "3.a Is set E a subset of set A\n",
    " .b Is set E a strict subset of set A\n",
    " .c Create a set that is the intersection of set A and set B\n",
    " .d Create a set that is the union of sets C, D and E\n",
    " .e add 9 to the set\n",
    " .f Using == compare this set to the list in one_a\n",
    " .g Explain why they are not the same. What would you need to change if you\n",
    "    wanted this to be True?\n",
    " \n",
    "\n",
    "three_setA = {1,2,3,4,5}\n",
    "three_setB = {2,3,4,5,6}\n",
    "three_setC = {3,5,7,9}\n",
    "three_setD = {2,4,6,8}\n",
    "three_setE = {1,2,3,4}\n",
    "\n",
    "\n",
    "\n",
    "Problem 4: Changing variable types\n",
    "\n",
    "For each step you will modify a variable, then append the type of the variable\n",
    "to a list. Do not recreate the list variable, it should be a running list of \n",
    "types.\n",
    "\n",
    "4.a Create a variable of type int with the value of 8\n",
    " .b Create an empty list \n",
    " .c Using type(), add the type of 4.a to this list\n",
    " .d Add 0.39 to 4.c\n",
    " .e append the type of 0.39 to the list\n",
    " .f exponentiate to the -10, ie: 4.d^-10,(hint: there might be an artihmetic operator to do so) round it to no \n",
    "    decimal places, and append to list.\n",
    " .g append the type to the list\n",
    " \n",
    " \n",
    "Problem 5: More variable type changes\n",
    "\n",
    "Continue from where you left off in Problem 4.\n",
    "\n",
    "5.a Manually create a dictionary where the values are items in the list from where we left in \n",
    "    problem 4, and the keys should be their index in the list. Print the dictionary.\n",
    " .b Add 300 and coerce it into a string\n",
    " .c append the type to the list\n",
    " .d slice the string up to the 2nd element\n",
    " .e append the type to the list\n",
    " .f use list comprehension to convert this into a new list of integers\n",
    " .g append the type to the list\n",
    " .h append the type of three_setA to the list\n",
    "\"\"\"\n",
    "\n",
    "#Start your assignment here\n",
    "print(\"Assignment 3\")\n",
    "\n"
   ]
  },
  {
   "cell_type": "code",
   "execution_count": null,
   "id": "b0d057ef",
   "metadata": {},
   "outputs": [],
   "source": [
    "#Question 1"
   ]
  },
  {
   "cell_type": "code",
   "execution_count": 1,
   "id": "367710fd",
   "metadata": {},
   "outputs": [
    {
     "name": "stdout",
     "output_type": "stream",
     "text": [
      "[0, 1, 2, 3, 4, 5, 6, 7, 8, 9]\n"
     ]
    }
   ],
   "source": [
    "one_a = [0,1,2,3,4,5,6,7,8,9]\n",
    "#My list of integers 0-9\n",
    "print(one_a)"
   ]
  },
  {
   "cell_type": "code",
   "execution_count": 2,
   "id": "00ffde4c",
   "metadata": {},
   "outputs": [
    {
     "name": "stdout",
     "output_type": "stream",
     "text": [
      "[8]\n"
     ]
    }
   ],
   "source": [
    "one_b = [one_a[5]+3]\n",
    "#adding 3 to the 5th indexed number, 5, to get 8\n",
    "print(one_b)"
   ]
  },
  {
   "cell_type": "code",
   "execution_count": 3,
   "id": "61ac932b",
   "metadata": {},
   "outputs": [
    {
     "name": "stdout",
     "output_type": "stream",
     "text": [
      "[0.0, 1.0, 2.0, 3.0, 4.0, 5.0, 6.0, 7.0, 8.0, 9.0]\n"
     ]
    }
   ],
   "source": [
    "one_c = [float(x) for x in one_a]\n",
    "#changing the list of integers to floats\n",
    "print(one_c)"
   ]
  },
  {
   "cell_type": "code",
   "execution_count": 4,
   "id": "ca0d8641",
   "metadata": {},
   "outputs": [
    {
     "name": "stdout",
     "output_type": "stream",
     "text": [
      "{0, 1, 2, 3, 4, 5, 6, 7, 8, 9}\n"
     ]
    }
   ],
   "source": [
    "one_d = set(one_a)\n",
    "#changing the list to a set\n",
    "print(one_d)"
   ]
  },
  {
   "cell_type": "code",
   "execution_count": 6,
   "id": "9a4e7c32",
   "metadata": {},
   "outputs": [
    {
     "name": "stdout",
     "output_type": "stream",
     "text": [
      "{0, 1, 2, 3, 4, 5, 6, 7, 8, 9, 10}\n"
     ]
    }
   ],
   "source": [
    "one_e = one_d.add(10)\n",
    "#appending 10 to the set\n",
    "print(one_d)"
   ]
  },
  {
   "cell_type": "code",
   "execution_count": 7,
   "id": "c5713928",
   "metadata": {},
   "outputs": [
    {
     "name": "stdout",
     "output_type": "stream",
     "text": [
      "{1, 2, 3, 4, 5, 6, 7, 8, 9, 10}\n"
     ]
    }
   ],
   "source": [
    "one_f = one_d.pop()\n",
    "#popping one value from the set, from my understanding pop does a random value in the set\n",
    "print(one_d)"
   ]
  },
  {
   "cell_type": "code",
   "execution_count": 8,
   "id": "7c4b0c1e",
   "metadata": {},
   "outputs": [
    {
     "name": "stdout",
     "output_type": "stream",
     "text": [
      "10\n"
     ]
    }
   ],
   "source": [
    "one_g = print(len(one_d))\n",
    "#the length of the set is 10"
   ]
  },
  {
   "cell_type": "code",
   "execution_count": 9,
   "id": "b14e5962",
   "metadata": {},
   "outputs": [
    {
     "name": "stdout",
     "output_type": "stream",
     "text": [
      "True\n"
     ]
    }
   ],
   "source": [
    "one_h = print(len(one_d)==len(one_a))\n",
    "#the lengeth of the set and the list are the same "
   ]
  },
  {
   "cell_type": "code",
   "execution_count": 10,
   "id": "dccdee23",
   "metadata": {},
   "outputs": [
    {
     "name": "stdout",
     "output_type": "stream",
     "text": [
      "[1, 2, 3, 4, 5, 6, 7, 8, 9, 10, 0, 1, 2, 3, 4, 5, 6, 7, 8, 9]\n"
     ]
    }
   ],
   "source": [
    "one_i = list(one_d) + one_a\n",
    "#I changed the set to a list and then add them together, creating a new list one_i\n",
    "print(one_i)"
   ]
  },
  {
   "cell_type": "code",
   "execution_count": 11,
   "id": "fa354767",
   "metadata": {},
   "outputs": [
    {
     "name": "stdout",
     "output_type": "stream",
     "text": [
      "{0, 1, 2, 3, 4, 5, 6, 7, 8, 9, 10}\n"
     ]
    }
   ],
   "source": [
    "one_j = set(one_i)\n",
    "#I changed the new list one_i to a set, one_j, there are no duplicate values like there are in sets\n",
    "print(one_j)"
   ]
  },
  {
   "cell_type": "code",
   "execution_count": 12,
   "id": "43a068a8",
   "metadata": {},
   "outputs": [
    {
     "name": "stdout",
     "output_type": "stream",
     "text": [
      "11\n"
     ]
    }
   ],
   "source": [
    "one_k = print(len(one_j))\n",
    "#as mentioned, because there are no duplicate values in a set, we only have the integers from 0-10 in the set"
   ]
  },
  {
   "cell_type": "code",
   "execution_count": null,
   "id": "d51cf6fa",
   "metadata": {},
   "outputs": [],
   "source": []
  },
  {
   "cell_type": "code",
   "execution_count": 13,
   "id": "f8f8510d",
   "metadata": {},
   "outputs": [],
   "source": [
    "#Question 2\n",
    "two_patient_dictionary_kinoko = {\n",
    "  \"name\" : \"Kinoko\",\n",
    "  \"year\" : 2021\n",
    "}\n",
    "two_patient_dictionary_dango = {\n",
    "  \"name\" : \"Dango\",\n",
    "  \"year\" : 2019\n",
    "}\n",
    "two_patient_dictionary_mochi  = {\n",
    "  \"name\" : \"Mochi\",\n",
    "  \"year\" : 2020\n",
    "}"
   ]
  },
  {
   "cell_type": "code",
   "execution_count": 14,
   "id": "6773f6ab",
   "metadata": {},
   "outputs": [
    {
     "name": "stdout",
     "output_type": "stream",
     "text": [
      "{'two_patient_dictionary_kinoko': {'name': 'Kinoko', 'year': 2021}, 'two_patient_dictionary_dango': {'name': 'Dango', 'year': 2019}, 'two_patient_dictionary_mochi': {'name': 'Mochi', 'year': 2020}}\n"
     ]
    }
   ],
   "source": [
    "two_a = {\"two_patient_dictionary_kinoko\":two_patient_dictionary_kinoko,\n",
    "        \"two_patient_dictionary_dango\":two_patient_dictionary_dango,\n",
    "        \"two_patient_dictionary_mochi\":two_patient_dictionary_mochi}\n",
    "print(two_a)\n",
    "#two_a is a nested dictionaries, dictionaries within another dictionary. There are 3 dictionaries in two_a "
   ]
  },
  {
   "cell_type": "code",
   "execution_count": 15,
   "id": "a9c878b8",
   "metadata": {},
   "outputs": [
    {
     "name": "stdout",
     "output_type": "stream",
     "text": [
      "Dango\n"
     ]
    }
   ],
   "source": [
    "two_b = two_a[\"two_patient_dictionary_dango\"][\"name\"]\n",
    "#two_b finds the dango dictionary and then finds the name within the dictionary.\n",
    "print(two_b)"
   ]
  },
  {
   "cell_type": "code",
   "execution_count": 16,
   "id": "f00d9a1b",
   "metadata": {},
   "outputs": [
    {
     "name": "stdout",
     "output_type": "stream",
     "text": [
      "{'two_patient_dictionary_kinoko': {'name': 'Kinoko', 'year': 2021}, 'two_patient_dictionary_dango': {'name': 'Dango', 'year': 2019}, 'two_patient_dictionary_mochi': {'name': 'Mochi', 'year': 2018}}\n"
     ]
    }
   ],
   "source": [
    "#two_c\n",
    "#the instructions state that 2c should not be a variable and simply update 2a\n",
    "two_a[\"two_patient_dictionary_mochi\"][\"year\"] = 2018\n",
    "#this updates the dictionary 2a and the dictionary containing Mochi's info to the year 2018 \n",
    "print(two_a)"
   ]
  },
  {
   "cell_type": "code",
   "execution_count": 17,
   "id": "12a8bcff",
   "metadata": {},
   "outputs": [
    {
     "name": "stdout",
     "output_type": "stream",
     "text": [
      "{'Kinoko': 2021, 'Dango': 2019, 'Mochi': 2019}\n"
     ]
    }
   ],
   "source": [
    "two_d = {\"Kinoko\":2021, \"Dango\":2019, \"Mochi\":2019}\n",
    "#new dictionary was manually created, Mochi's year was set to 2019\n",
    "print(two_d)"
   ]
  },
  {
   "cell_type": "code",
   "execution_count": 18,
   "id": "b0daa37c",
   "metadata": {},
   "outputs": [
    {
     "name": "stdout",
     "output_type": "stream",
     "text": [
      "['Kinoko', 'Dango', 'Mochi']\n"
     ]
    }
   ],
   "source": [
    "two_e = list(two_d.keys())\n",
    "#This puts the keys in the dictionary two_d into a list\n",
    "print(two_e)"
   ]
  },
  {
   "cell_type": "code",
   "execution_count": 19,
   "id": "ab8e6e68",
   "metadata": {},
   "outputs": [
    {
     "name": "stdout",
     "output_type": "stream",
     "text": [
      "[2021, 2019, 2019]\n"
     ]
    }
   ],
   "source": [
    "two_f = list(two_d.values())\n",
    "#This puts the values in the dictionary two_d into a list\n",
    "print(two_f)"
   ]
  },
  {
   "cell_type": "code",
   "execution_count": 20,
   "id": "50f2b3f0",
   "metadata": {},
   "outputs": [
    {
     "name": "stdout",
     "output_type": "stream",
     "text": [
      "{'Kinoko': 2021, 'Dango': 2019, 'Mochi': 2019}\n"
     ]
    }
   ],
   "source": [
    "two_g = dict(zip(two_e, two_f))\n",
    "#The zip and dict function combines the 2 lists together again and makes it a dictionary\n",
    "print(two_g)"
   ]
  },
  {
   "cell_type": "code",
   "execution_count": null,
   "id": "71ecb10d",
   "metadata": {},
   "outputs": [],
   "source": []
  },
  {
   "cell_type": "code",
   "execution_count": 21,
   "id": "4bf814fd",
   "metadata": {},
   "outputs": [],
   "source": [
    "#Question 3\n",
    "three_setA = {1,2,3,4,5}\n",
    "three_setB = {2,3,4,5,6}\n",
    "three_setC = {3,5,7,9}\n",
    "three_setD = {2,4,6,8}\n",
    "three_setE = {1,2,3,4}"
   ]
  },
  {
   "cell_type": "code",
   "execution_count": 22,
   "id": "2b3b6d2e",
   "metadata": {},
   "outputs": [
    {
     "name": "stdout",
     "output_type": "stream",
     "text": [
      "True\n"
     ]
    }
   ],
   "source": [
    "three_a = print(three_setE.issubset(three_setA))\n",
    "#set E is a subset of set A"
   ]
  },
  {
   "cell_type": "code",
   "execution_count": 23,
   "id": "563fb33f",
   "metadata": {},
   "outputs": [
    {
     "name": "stdout",
     "output_type": "stream",
     "text": [
      "True\n"
     ]
    }
   ],
   "source": [
    "three_b = print((three_setE.issubset(three_setA)) and three_setE != three_setA)\n",
    "#Because we know that E is a subset of A, we need to see if they are equal to each other, if they are not equal\n",
    "#then we know that E is a strict subset of A. Showing us that all of the elements of set E are within set A."
   ]
  },
  {
   "cell_type": "code",
   "execution_count": 24,
   "id": "18f8b876",
   "metadata": {},
   "outputs": [
    {
     "name": "stdout",
     "output_type": "stream",
     "text": [
      "{2, 3, 4, 5}\n"
     ]
    }
   ],
   "source": [
    "three_c = three_setA.intersection(three_setB)\n",
    "#.intersection() creates an intersection between the 2 sets\n",
    "print(three_c)"
   ]
  },
  {
   "cell_type": "code",
   "execution_count": 25,
   "id": "12741a34",
   "metadata": {},
   "outputs": [
    {
     "name": "stdout",
     "output_type": "stream",
     "text": [
      "{1, 2, 3, 4, 5, 6, 7, 8, 9}\n"
     ]
    }
   ],
   "source": [
    "three_d = three_setC.union(three_setD, three_setE)\n",
    "print(three_d)"
   ]
  },
  {
   "cell_type": "code",
   "execution_count": 26,
   "id": "54e26e2a",
   "metadata": {},
   "outputs": [
    {
     "name": "stdout",
     "output_type": "stream",
     "text": [
      "{1, 2, 3, 4, 5, 6, 7, 8, 9}\n"
     ]
    }
   ],
   "source": [
    "#the question was not specific to which set to add 9 to. I am assuming I am adding 9 to the most recently made\n",
    "#set, three_d.\n",
    "three_e = three_d.add(9)\n",
    "print(three_d)\n",
    "#This is updating the set three_d with a 9, however, because the set three_d already has a 9 in it and since \n",
    "#sets do not have duplicate numbers, nothing in the set is changing."
   ]
  },
  {
   "cell_type": "code",
   "execution_count": 27,
   "id": "e12d8821",
   "metadata": {},
   "outputs": [
    {
     "name": "stdout",
     "output_type": "stream",
     "text": [
      "False\n"
     ]
    }
   ],
   "source": [
    "three_f = print(three_d == one_a)\n",
    "#comparing to see if they are equal, 3g explains why"
   ]
  },
  {
   "cell_type": "code",
   "execution_count": 29,
   "id": "2aec60d7",
   "metadata": {},
   "outputs": [
    {
     "name": "stdout",
     "output_type": "stream",
     "text": [
      "If we print out the set three_d and the list one_a, {1, 2, 3, 4, 5, 6, 7, 8, 9} [0, 1, 2, 3, 4, 5, 6, 7, 8, 9] , we would first see that they are not equal because the list one_a has the integer 0 included in it. In addition to that, they are not equal because three_d is a set and one_a is a list, so they would not be equal. If I wanted them to be equal I would need to remove the 0 from list one_a and then coerce one_a into a set OR coerce set three_d into a list\n"
     ]
    }
   ],
   "source": [
    "three_g = print(\"If we print out the set three_d and the list one_a,\", three_d, one_a,\", we would first see that they are not equal because the list one_a has the integer 0 included in it. In addition to that, they are not equal because three_d is a set and one_a is a list, so they would not be equal. If I wanted them to be equal I would need to remove the 0 from list one_a and then coerce one_a into a set OR coerce set three_d into a list\" )"
   ]
  },
  {
   "cell_type": "code",
   "execution_count": null,
   "id": "eecfdb59",
   "metadata": {},
   "outputs": [],
   "source": [
    "#Question 4: Changing variable types\n",
    "\n",
    "#For each step you will modify a variable, then append the type of the variable\n",
    "#to a list. Do not recreate the list variable, it should be a running list of \n",
    "#types.\n",
    "\n",
    "#Due to these instruction I will not be making a new variable for each question"
   ]
  },
  {
   "cell_type": "code",
   "execution_count": 30,
   "id": "28a4d8db",
   "metadata": {},
   "outputs": [
    {
     "name": "stdout",
     "output_type": "stream",
     "text": [
      "8\n"
     ]
    }
   ],
   "source": [
    "four_a = 8\n",
    "print(four_a)\n",
    "#4a is the integer 8"
   ]
  },
  {
   "cell_type": "code",
   "execution_count": 31,
   "id": "d02b962c",
   "metadata": {},
   "outputs": [
    {
     "name": "stdout",
     "output_type": "stream",
     "text": [
      "[]\n"
     ]
    }
   ],
   "source": [
    "four_b = []\n",
    "print(four_b)\n",
    "#4b is an empty list"
   ]
  },
  {
   "cell_type": "code",
   "execution_count": 32,
   "id": "b90196b3",
   "metadata": {},
   "outputs": [
    {
     "name": "stdout",
     "output_type": "stream",
     "text": [
      "[<class 'int'>]\n"
     ]
    }
   ],
   "source": [
    "#4c\n",
    "four_b.append(type(four_a))\n",
    "print(four_b)\n",
    "#added the type of 4a to 4b"
   ]
  },
  {
   "cell_type": "code",
   "execution_count": 33,
   "id": "dcebec6b",
   "metadata": {},
   "outputs": [
    {
     "name": "stdout",
     "output_type": "stream",
     "text": [
      "[<class 'int'>, 0.39]\n"
     ]
    }
   ],
   "source": [
    "#4d\n",
    "four_b.append(.39)\n",
    "print(four_b)\n",
    "#add .39 to 4c"
   ]
  },
  {
   "cell_type": "code",
   "execution_count": 34,
   "id": "15d0b668",
   "metadata": {},
   "outputs": [
    {
     "name": "stdout",
     "output_type": "stream",
     "text": [
      "[<class 'int'>, 0.39, <class 'float'>]\n"
     ]
    }
   ],
   "source": [
    "#4e\n",
    "four_b.append(type(.39))\n",
    "print(four_b)\n",
    "#append the type of .39 to the list"
   ]
  },
  {
   "cell_type": "code",
   "execution_count": 35,
   "id": "5f8e12a6",
   "metadata": {},
   "outputs": [
    {
     "name": "stdout",
     "output_type": "stream",
     "text": [
      "[<class 'int'>, 0.39, <class 'float'>, 12284]\n"
     ]
    }
   ],
   "source": [
    "#4f\n",
    "four_b.append(round(0.39**-10))\n",
    "print(four_b)\n",
    "#add the .39^-10 rounded to the list"
   ]
  },
  {
   "cell_type": "code",
   "execution_count": 36,
   "id": "7c922dc8",
   "metadata": {},
   "outputs": [
    {
     "name": "stdout",
     "output_type": "stream",
     "text": [
      "[<class 'int'>, 0.39, <class 'float'>, 12284, <class 'int'>]\n"
     ]
    }
   ],
   "source": [
    "#4g\n",
    "four_b.append(type(round(0.39**-10)))\n",
    "print(four_b)\n",
    "#add the type of 4f to the list"
   ]
  },
  {
   "cell_type": "code",
   "execution_count": null,
   "id": "787ff963",
   "metadata": {},
   "outputs": [],
   "source": []
  },
  {
   "cell_type": "code",
   "execution_count": 248,
   "id": "b7746061",
   "metadata": {},
   "outputs": [],
   "source": [
    "#Question 5\n"
   ]
  },
  {
   "cell_type": "code",
   "execution_count": 37,
   "id": "59044c3e",
   "metadata": {},
   "outputs": [
    {
     "name": "stdout",
     "output_type": "stream",
     "text": [
      "{8: [<class 'int'>, 0.39, <class 'float'>, 12284, <class 'int'>]}\n"
     ]
    }
   ],
   "source": [
    "#5a\n",
    "five_a = {four_a:four_b}\n",
    "print(five_a)\n",
    "#create dictionary by combining 4a and the list"
   ]
  },
  {
   "cell_type": "code",
   "execution_count": 38,
   "id": "2a9960e8",
   "metadata": {},
   "outputs": [
    {
     "name": "stdout",
     "output_type": "stream",
     "text": [
      "[<class 'int'>, 0.39, <class 'float'>, 12284, <class 'int'>, '300']\n"
     ]
    }
   ],
   "source": [
    "#5b\n",
    "five_b = \"300\"\n",
    "#From my understanding, I need to add 300 as a string to the list we were using in Question 4, the list four_b\n",
    "#I find the intruction of this question confusing and I am doing the best based on what I believe it is asking.\n",
    "four_b.append(five_b)\n",
    "print(four_b)"
   ]
  },
  {
   "cell_type": "code",
   "execution_count": 39,
   "id": "e53eaffb",
   "metadata": {},
   "outputs": [
    {
     "name": "stdout",
     "output_type": "stream",
     "text": [
      "[<class 'int'>, 0.39, <class 'float'>, 12284, <class 'int'>, '300', <class 'str'>]\n"
     ]
    }
   ],
   "source": [
    "#5c\n",
    "four_b.append(type(five_b))\n",
    "print(four_b)\n",
    "#add the type to the list"
   ]
  },
  {
   "cell_type": "code",
   "execution_count": 40,
   "id": "94a42aa9",
   "metadata": {},
   "outputs": [
    {
     "name": "stdout",
     "output_type": "stream",
     "text": [
      "300\n"
     ]
    }
   ],
   "source": [
    "#5d\n",
    "five_d = five_b[:2]\n",
    "print(five_b)\n",
    "#Slicing the string \"300\" to the 2nd element, which is 300."
   ]
  },
  {
   "cell_type": "code",
   "execution_count": 41,
   "id": "3a3a4609",
   "metadata": {},
   "outputs": [
    {
     "name": "stdout",
     "output_type": "stream",
     "text": [
      "[<class 'int'>, 0.39, <class 'float'>, 12284, <class 'int'>, '300', <class 'str'>, <class 'str'>]\n"
     ]
    }
   ],
   "source": [
    "#5e\n",
    "four_b.append(type(five_d))\n",
    "print(four_b)\n",
    "#append type to the list"
   ]
  },
  {
   "cell_type": "code",
   "execution_count": 42,
   "id": "38309ada",
   "metadata": {},
   "outputs": [
    {
     "name": "stdout",
     "output_type": "stream",
     "text": [
      "[12284]\n"
     ]
    }
   ],
   "source": [
    "#5f\n",
    "five_f = [x for x in four_b if type(x) == int]\n",
    "print(five_f)\n",
    "#made a list of all the integers"
   ]
  },
  {
   "cell_type": "code",
   "execution_count": 43,
   "id": "694c46a0",
   "metadata": {},
   "outputs": [
    {
     "name": "stdout",
     "output_type": "stream",
     "text": [
      "[<class 'int'>, 0.39, <class 'float'>, 12284, <class 'int'>, '300', <class 'str'>, <class 'str'>, <class 'list'>]\n"
     ]
    }
   ],
   "source": [
    "#5g\n",
    "four_b.append(type(five_f))\n",
    "print(four_b)\n",
    "#append time to the list"
   ]
  },
  {
   "cell_type": "code",
   "execution_count": 44,
   "id": "f55c546e",
   "metadata": {},
   "outputs": [
    {
     "name": "stdout",
     "output_type": "stream",
     "text": [
      "[<class 'int'>, 0.39, <class 'float'>, 12284, <class 'int'>, '300', <class 'str'>, <class 'str'>, <class 'list'>, <class 'set'>]\n"
     ]
    }
   ],
   "source": [
    "#5h\n",
    "four_b.append(type(three_setA))\n",
    "print(four_b)\n",
    "#append the type of setA from question 3 to the list "
   ]
  },
  {
   "cell_type": "code",
   "execution_count": null,
   "id": "4a2edcfa",
   "metadata": {},
   "outputs": [],
   "source": []
  }
 ],
 "metadata": {
  "kernelspec": {
   "display_name": "Python 3 (ipykernel)",
   "language": "python",
   "name": "python3"
  },
  "language_info": {
   "codemirror_mode": {
    "name": "ipython",
    "version": 3
   },
   "file_extension": ".py",
   "mimetype": "text/x-python",
   "name": "python",
   "nbconvert_exporter": "python",
   "pygments_lexer": "ipython3",
   "version": "3.9.12"
  }
 },
 "nbformat": 4,
 "nbformat_minor": 5
}

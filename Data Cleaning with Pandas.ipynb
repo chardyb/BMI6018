{
 "cells": [
  {
   "cell_type": "code",
   "execution_count": null,
   "id": "90eb4aff",
   "metadata": {},
   "outputs": [],
   "source": [
    "#Carter Hardy\n",
    "#BMI 6018\n",
    "#Nov-4-2024"
   ]
  },
  {
   "cell_type": "code",
   "execution_count": 200,
   "id": "14641a33",
   "metadata": {},
   "outputs": [],
   "source": [
    "#%% Libraries\n",
    "import pandas as pd\n",
    "import matplotlib.pyplot as plt\n",
    "import numpy as np"
   ]
  },
  {
   "cell_type": "code",
   "execution_count": 218,
   "id": "95d93737",
   "metadata": {},
   "outputs": [
    {
     "data": {
      "text/html": [
       "<div>\n",
       "<style scoped>\n",
       "    .dataframe tbody tr th:only-of-type {\n",
       "        vertical-align: middle;\n",
       "    }\n",
       "\n",
       "    .dataframe tbody tr th {\n",
       "        vertical-align: top;\n",
       "    }\n",
       "\n",
       "    .dataframe thead th {\n",
       "        text-align: right;\n",
       "    }\n",
       "</style>\n",
       "<table border=\"1\" class=\"dataframe\">\n",
       "  <thead>\n",
       "    <tr style=\"text-align: right;\">\n",
       "      <th></th>\n",
       "      <th>Unnamed: 0</th>\n",
       "      <th>year</th>\n",
       "      <th>month</th>\n",
       "      <th>day</th>\n",
       "      <th>dep_time</th>\n",
       "      <th>dep_delay</th>\n",
       "      <th>arr_time</th>\n",
       "      <th>arr_delay</th>\n",
       "      <th>carrier</th>\n",
       "      <th>tailnum</th>\n",
       "      <th>flight</th>\n",
       "      <th>origin</th>\n",
       "      <th>dest</th>\n",
       "      <th>air_time</th>\n",
       "      <th>distance</th>\n",
       "      <th>hour</th>\n",
       "      <th>minute</th>\n",
       "    </tr>\n",
       "  </thead>\n",
       "  <tbody>\n",
       "    <tr>\n",
       "      <th>0</th>\n",
       "      <td>1</td>\n",
       "      <td>2013</td>\n",
       "      <td>1</td>\n",
       "      <td>1</td>\n",
       "      <td>517.0</td>\n",
       "      <td>2.0</td>\n",
       "      <td>830.0</td>\n",
       "      <td>11.0</td>\n",
       "      <td>UA</td>\n",
       "      <td>N14228</td>\n",
       "      <td>1545</td>\n",
       "      <td>EWR</td>\n",
       "      <td>IAH</td>\n",
       "      <td>227.0</td>\n",
       "      <td>1400</td>\n",
       "      <td>5.0</td>\n",
       "      <td>17.0</td>\n",
       "    </tr>\n",
       "    <tr>\n",
       "      <th>1</th>\n",
       "      <td>2</td>\n",
       "      <td>2013</td>\n",
       "      <td>1</td>\n",
       "      <td>1</td>\n",
       "      <td>533.0</td>\n",
       "      <td>4.0</td>\n",
       "      <td>850.0</td>\n",
       "      <td>20.0</td>\n",
       "      <td>UA</td>\n",
       "      <td>N24211</td>\n",
       "      <td>1714</td>\n",
       "      <td>LGA</td>\n",
       "      <td>IAH</td>\n",
       "      <td>227.0</td>\n",
       "      <td>1416</td>\n",
       "      <td>5.0</td>\n",
       "      <td>33.0</td>\n",
       "    </tr>\n",
       "    <tr>\n",
       "      <th>2</th>\n",
       "      <td>3</td>\n",
       "      <td>2013</td>\n",
       "      <td>1</td>\n",
       "      <td>1</td>\n",
       "      <td>542.0</td>\n",
       "      <td>2.0</td>\n",
       "      <td>923.0</td>\n",
       "      <td>33.0</td>\n",
       "      <td>AA</td>\n",
       "      <td>N619AA</td>\n",
       "      <td>1141</td>\n",
       "      <td>JFK</td>\n",
       "      <td>MIA</td>\n",
       "      <td>160.0</td>\n",
       "      <td>1089</td>\n",
       "      <td>5.0</td>\n",
       "      <td>42.0</td>\n",
       "    </tr>\n",
       "    <tr>\n",
       "      <th>3</th>\n",
       "      <td>4</td>\n",
       "      <td>2013</td>\n",
       "      <td>1</td>\n",
       "      <td>1</td>\n",
       "      <td>544.0</td>\n",
       "      <td>-1.0</td>\n",
       "      <td>1004.0</td>\n",
       "      <td>-18.0</td>\n",
       "      <td>B6</td>\n",
       "      <td>N804JB</td>\n",
       "      <td>725</td>\n",
       "      <td>JFK</td>\n",
       "      <td>BQN</td>\n",
       "      <td>183.0</td>\n",
       "      <td>1576</td>\n",
       "      <td>5.0</td>\n",
       "      <td>44.0</td>\n",
       "    </tr>\n",
       "    <tr>\n",
       "      <th>4</th>\n",
       "      <td>5</td>\n",
       "      <td>2013</td>\n",
       "      <td>1</td>\n",
       "      <td>1</td>\n",
       "      <td>554.0</td>\n",
       "      <td>-6.0</td>\n",
       "      <td>812.0</td>\n",
       "      <td>-25.0</td>\n",
       "      <td>DL</td>\n",
       "      <td>N668DN</td>\n",
       "      <td>461</td>\n",
       "      <td>LGA</td>\n",
       "      <td>ATL</td>\n",
       "      <td>116.0</td>\n",
       "      <td>762</td>\n",
       "      <td>5.0</td>\n",
       "      <td>54.0</td>\n",
       "    </tr>\n",
       "    <tr>\n",
       "      <th>5</th>\n",
       "      <td>6</td>\n",
       "      <td>2013</td>\n",
       "      <td>1</td>\n",
       "      <td>1</td>\n",
       "      <td>554.0</td>\n",
       "      <td>-4.0</td>\n",
       "      <td>740.0</td>\n",
       "      <td>12.0</td>\n",
       "      <td>UA</td>\n",
       "      <td>N39463</td>\n",
       "      <td>1696</td>\n",
       "      <td>EWR</td>\n",
       "      <td>ORD</td>\n",
       "      <td>150.0</td>\n",
       "      <td>719</td>\n",
       "      <td>5.0</td>\n",
       "      <td>54.0</td>\n",
       "    </tr>\n",
       "    <tr>\n",
       "      <th>6</th>\n",
       "      <td>7</td>\n",
       "      <td>2013</td>\n",
       "      <td>1</td>\n",
       "      <td>1</td>\n",
       "      <td>555.0</td>\n",
       "      <td>-5.0</td>\n",
       "      <td>913.0</td>\n",
       "      <td>19.0</td>\n",
       "      <td>B6</td>\n",
       "      <td>N516JB</td>\n",
       "      <td>507</td>\n",
       "      <td>EWR</td>\n",
       "      <td>FLL</td>\n",
       "      <td>158.0</td>\n",
       "      <td>1065</td>\n",
       "      <td>5.0</td>\n",
       "      <td>55.0</td>\n",
       "    </tr>\n",
       "    <tr>\n",
       "      <th>7</th>\n",
       "      <td>8</td>\n",
       "      <td>2013</td>\n",
       "      <td>1</td>\n",
       "      <td>1</td>\n",
       "      <td>557.0</td>\n",
       "      <td>-3.0</td>\n",
       "      <td>709.0</td>\n",
       "      <td>-14.0</td>\n",
       "      <td>EV</td>\n",
       "      <td>N829AS</td>\n",
       "      <td>5708</td>\n",
       "      <td>LGA</td>\n",
       "      <td>IAD</td>\n",
       "      <td>53.0</td>\n",
       "      <td>229</td>\n",
       "      <td>5.0</td>\n",
       "      <td>57.0</td>\n",
       "    </tr>\n",
       "    <tr>\n",
       "      <th>8</th>\n",
       "      <td>9</td>\n",
       "      <td>2013</td>\n",
       "      <td>1</td>\n",
       "      <td>1</td>\n",
       "      <td>557.0</td>\n",
       "      <td>-3.0</td>\n",
       "      <td>838.0</td>\n",
       "      <td>-8.0</td>\n",
       "      <td>B6</td>\n",
       "      <td>N593JB</td>\n",
       "      <td>79</td>\n",
       "      <td>JFK</td>\n",
       "      <td>MCO</td>\n",
       "      <td>140.0</td>\n",
       "      <td>944</td>\n",
       "      <td>5.0</td>\n",
       "      <td>57.0</td>\n",
       "    </tr>\n",
       "    <tr>\n",
       "      <th>9</th>\n",
       "      <td>10</td>\n",
       "      <td>2013</td>\n",
       "      <td>1</td>\n",
       "      <td>1</td>\n",
       "      <td>558.0</td>\n",
       "      <td>-2.0</td>\n",
       "      <td>753.0</td>\n",
       "      <td>8.0</td>\n",
       "      <td>AA</td>\n",
       "      <td>N3ALAA</td>\n",
       "      <td>301</td>\n",
       "      <td>LGA</td>\n",
       "      <td>ORD</td>\n",
       "      <td>138.0</td>\n",
       "      <td>733</td>\n",
       "      <td>5.0</td>\n",
       "      <td>58.0</td>\n",
       "    </tr>\n",
       "  </tbody>\n",
       "</table>\n",
       "</div>"
      ],
      "text/plain": [
       "   Unnamed: 0  year  month  day  dep_time  dep_delay  arr_time  arr_delay  \\\n",
       "0           1  2013      1    1     517.0        2.0     830.0       11.0   \n",
       "1           2  2013      1    1     533.0        4.0     850.0       20.0   \n",
       "2           3  2013      1    1     542.0        2.0     923.0       33.0   \n",
       "3           4  2013      1    1     544.0       -1.0    1004.0      -18.0   \n",
       "4           5  2013      1    1     554.0       -6.0     812.0      -25.0   \n",
       "5           6  2013      1    1     554.0       -4.0     740.0       12.0   \n",
       "6           7  2013      1    1     555.0       -5.0     913.0       19.0   \n",
       "7           8  2013      1    1     557.0       -3.0     709.0      -14.0   \n",
       "8           9  2013      1    1     557.0       -3.0     838.0       -8.0   \n",
       "9          10  2013      1    1     558.0       -2.0     753.0        8.0   \n",
       "\n",
       "  carrier tailnum  flight origin dest  air_time  distance  hour  minute  \n",
       "0      UA  N14228    1545    EWR  IAH     227.0      1400   5.0    17.0  \n",
       "1      UA  N24211    1714    LGA  IAH     227.0      1416   5.0    33.0  \n",
       "2      AA  N619AA    1141    JFK  MIA     160.0      1089   5.0    42.0  \n",
       "3      B6  N804JB     725    JFK  BQN     183.0      1576   5.0    44.0  \n",
       "4      DL  N668DN     461    LGA  ATL     116.0       762   5.0    54.0  \n",
       "5      UA  N39463    1696    EWR  ORD     150.0       719   5.0    54.0  \n",
       "6      B6  N516JB     507    EWR  FLL     158.0      1065   5.0    55.0  \n",
       "7      EV  N829AS    5708    LGA  IAD      53.0       229   5.0    57.0  \n",
       "8      B6  N593JB      79    JFK  MCO     140.0       944   5.0    57.0  \n",
       "9      AA  N3ALAA     301    LGA  ORD     138.0       733   5.0    58.0  "
      ]
     },
     "execution_count": 218,
     "metadata": {},
     "output_type": "execute_result"
    }
   ],
   "source": [
    "#%% Importing Data\n",
    "flights_data = pd.read_csv('/Users/carterhardy/BMI 6018/data/flights.csv')\n",
    "df = flights_data\n",
    "df.head(10)\n",
    "\n",
    "#%% Pandas Data Filtering/Sorting Question Answering\n",
    "#use flights_data"
   ]
  },
  {
   "cell_type": "code",
   "execution_count": null,
   "id": "8c0aac5e",
   "metadata": {},
   "outputs": [],
   "source": []
  },
  {
   "cell_type": "code",
   "execution_count": 219,
   "id": "67d9b78e",
   "metadata": {},
   "outputs": [
    {
     "name": "stdout",
     "output_type": "stream",
     "text": [
      "The number of flights from JFK to SLC in the data is 2113\n"
     ]
    }
   ],
   "source": [
    "#Question 1 How many flights were there from JFK to SLC? Int\n",
    "flights_JFK_SLC = df[(df['origin'] == 'JFK') & (df['dest'] == 'SLC')]\n",
    "\n",
    "num_flights_JFK_SLC = len(flights_JFK_SLC)\n",
    "\n",
    "print('The number of flights from JFK to SLC in the data is', num_flights_JFK_SLC)"
   ]
  },
  {
   "cell_type": "code",
   "execution_count": null,
   "id": "71f26959",
   "metadata": {},
   "outputs": [],
   "source": []
  },
  {
   "cell_type": "code",
   "execution_count": 225,
   "id": "ed8ba6b8",
   "metadata": {},
   "outputs": [
    {
     "name": "stdout",
     "output_type": "stream",
     "text": [
      "The number of airlines that fly to SLC is 2\n"
     ]
    }
   ],
   "source": [
    "#Question 2 How many airlines fly to SLC? Should be int\n",
    "airlines_SLC = df[(df['dest'] == 'SLC')]\n",
    "\n",
    "unique_airlines = airlines_SLC['carrier'].unique()\n",
    "\n",
    "num_unique_airlines = len(unique_airlines)\n",
    "\n",
    "print('The number of airlines that fly to SLC is', num_unique_airlines)"
   ]
  },
  {
   "cell_type": "code",
   "execution_count": null,
   "id": "b6c6f0ca",
   "metadata": {},
   "outputs": [],
   "source": []
  },
  {
   "cell_type": "code",
   "execution_count": 204,
   "id": "0c8a3abf",
   "metadata": {},
   "outputs": [
    {
     "name": "stdout",
     "output_type": "stream",
     "text": [
      "The average arrival delay for flights to RDU is 10.052380952380952\n"
     ]
    }
   ],
   "source": [
    "#Question 3 What is the average arrival delay for flights to RDU? float\n",
    "flights_RDU = df[df['dest'] == 'RDU']\n",
    "\n",
    "ave_arrival_delay_RDU = flights_RDU['arr_delay'].mean()\n",
    "print('The average arrival delay for flights to RDU is', ave_arrival_delay_RDU)"
   ]
  },
  {
   "cell_type": "code",
   "execution_count": null,
   "id": "b854d46c",
   "metadata": {},
   "outputs": [],
   "source": []
  },
  {
   "cell_type": "code",
   "execution_count": 205,
   "id": "258d516e",
   "metadata": {},
   "outputs": [
    {
     "name": "stdout",
     "output_type": "stream",
     "text": [
      "Total flights to SEA: 3923\n",
      "Flights to SEA from the two NYC airports: 2092\n",
      " \n",
      "The proportion of flights to SEA that come from the two NYC airports is 0.5332653581442773\n"
     ]
    }
   ],
   "source": [
    "#Question 4 What proportion of flights to SEA come from the two NYC airports (LGA and JFK)?  float\n",
    "flights_SEA = df[df['dest'] == 'SEA']\n",
    "origin_NYC = flights_SEA[(flights_SEA['origin'] == 'LGA') | (flights_SEA['origin'] == 'JFK')]\n",
    "\n",
    "print('Total flights to SEA:', len(flights_SEA))\n",
    "print('Flights to SEA from the two NYC airports:', len(origin_NYC))\n",
    "print(' ')\n",
    "\n",
    "proportion_SEA = len(origin_NYC) / len(flights_SEA)\n",
    "print('The proportion of flights to SEA that come from the two NYC airports is', proportion_SEA)"
   ]
  },
  {
   "cell_type": "code",
   "execution_count": null,
   "id": "a0d7b990",
   "metadata": {},
   "outputs": [],
   "source": []
  },
  {
   "cell_type": "code",
   "execution_count": 206,
   "id": "0351c90a",
   "metadata": {},
   "outputs": [],
   "source": [
    "#Question 5 Which date has the largest average depature delay? Pd slice with date and float\n",
    "#please make date a column. Preferred format is 2013/1/1 (y/m/d)\n",
    "df['date'] = pd.to_datetime(df[['year', 'month', 'day']])\n",
    "df['date'] = df['date'].dt.strftime('%Y/%m/%d')\n",
    "#df.head(10), check to see if the date looks correct"
   ]
  },
  {
   "cell_type": "code",
   "execution_count": 207,
   "id": "ff0dce9c",
   "metadata": {},
   "outputs": [
    {
     "name": "stdout",
     "output_type": "stream",
     "text": [
      "The date with the largest average departure delay is 2013/03/08\n",
      "2013/03/08 had an average departure delay of  83.5369211514393\n"
     ]
    }
   ],
   "source": [
    "#Continued: Question 5\n",
    "ave_departure = df.groupby('date')['dep_delay'].mean()\n",
    "#ave_departure.head(10)\n",
    "ave_depart_delay_date = ave_departure.idxmax()\n",
    "ave_depart_delay_amount = ave_departure.max()\n",
    "\n",
    "print('The date with the largest average departure delay is', ave_depart_delay_date)\n",
    "print(ave_depart_delay_date, 'had an average departure delay of ', ave_depart_delay_amount)"
   ]
  },
  {
   "cell_type": "code",
   "execution_count": null,
   "id": "47fd9fec",
   "metadata": {},
   "outputs": [],
   "source": []
  },
  {
   "cell_type": "code",
   "execution_count": 208,
   "id": "5735ca35",
   "metadata": {},
   "outputs": [
    {
     "name": "stdout",
     "output_type": "stream",
     "text": [
      "The data with the largest average arrival delay is 2013/03/08\n",
      "2013/03/08 had an average arrival delay of 85.86215538847118\n"
     ]
    }
   ],
   "source": [
    "#Question 6 Which date has the largest average arrival delay? pd slice with date and float\n",
    "ave_arrival_delay = df.groupby('date')['arr_delay'].mean()\n",
    "#ave_arrival_delay.head(10)\n",
    "ave_arr_delay_date = ave_arrival_delay.idxmax()\n",
    "ave_arr_delay_amount = ave_arrival_delay.max()\n",
    "\n",
    "print('The data with the largest average arrival delay is', ave_arr_delay_date)\n",
    "print(ave_arr_delay_date, 'had an average arrival delay of', ave_arr_delay_amount)"
   ]
  },
  {
   "cell_type": "code",
   "execution_count": null,
   "id": "60f52a95",
   "metadata": {},
   "outputs": [],
   "source": []
  },
  {
   "cell_type": "code",
   "execution_count": 209,
   "id": "d7988e97",
   "metadata": {},
   "outputs": [],
   "source": [
    "#Question 7 Which flight departing LGA or JFK in 2013 flew the fastest? pd slice with tailnumber and speed\n",
    "#speed = distance/airtime\n",
    "\n",
    "#First, adding speed to df\n",
    "df['speed'] = df['distance']/df['air_time']\n",
    "\n",
    "#Check new speed column\n",
    "#df.head(10) "
   ]
  },
  {
   "cell_type": "code",
   "execution_count": 210,
   "id": "7122539a",
   "metadata": {},
   "outputs": [
    {
     "name": "stdout",
     "output_type": "stream",
     "text": [
      "The tail number of the flight departing from LGA or JFK in 2013 that flew the fastest is N666DN\n",
      "Which had a speed of 11.723076923076922\n"
     ]
    }
   ],
   "source": [
    "flight_depart_NYC = df[((df['origin'] == 'LGA') | (df['origin'] == 'JFK')) & (df['year'] == 2013)]\n",
    "\n",
    "max_speed = flight_depart_NYC['speed'].max()\n",
    "max_speed_index = flight_depart_NYC['speed'].idxmax()\n",
    "tailnum= flight_depart_NYC.loc[max_speed_index, 'tailnum']\n",
    "\n",
    "print('The tail number of the flight departing from LGA or JFK in 2013 that flew the fastest is', tailnum)\n",
    "print('Which had a speed of', max_speed)"
   ]
  },
  {
   "cell_type": "code",
   "execution_count": null,
   "id": "3b547d95",
   "metadata": {},
   "outputs": [],
   "source": []
  },
  {
   "cell_type": "code",
   "execution_count": 211,
   "id": "eed1091d",
   "metadata": {},
   "outputs": [],
   "source": [
    "weather_data_pd = pd.read_csv('/Users/carterhardy/BMI 6018/data/weather.csv')\n",
    "weather_data_np = weather_data_pd.to_numpy()\n"
   ]
  },
  {
   "cell_type": "code",
   "execution_count": 212,
   "id": "8f16a86d",
   "metadata": {},
   "outputs": [
    {
     "name": "stdout",
     "output_type": "stream",
     "text": [
      "As an example, we find 2 NaN values, under the pressure column:\n",
      " \n",
      "16   NaN\n",
      "17   NaN\n",
      "Name: pressure, dtype: float64\n"
     ]
    }
   ],
   "source": [
    "#Question 8 Replace all nans in the weather pd dataframe with 0s. Pd with no nans\n",
    "\n",
    "NaN_values = weather_data_pd.iloc[16:18]\n",
    "print('As an example, we find 2 NaN values, under the pressure column:')\n",
    "print(' ')\n",
    "print(NaN_values['pressure'])\n",
    "\n"
   ]
  },
  {
   "cell_type": "code",
   "execution_count": 213,
   "id": "3b724b2d",
   "metadata": {},
   "outputs": [
    {
     "name": "stdout",
     "output_type": "stream",
     "text": [
      "next we will use .fillna(0) to fill those values with 0\n",
      "Using the same index, we will print the rows 16 and 17 and show that the NaN values have been changed to 0\n",
      " \n",
      "16    0.0\n",
      "17    0.0\n",
      "Name: pressure, dtype: float64\n"
     ]
    }
   ],
   "source": [
    "print('next we will use .fillna(0) to fill those values with 0') \n",
    "weather_data_pd = weather_data_pd.fillna(0)\n",
    "same_index = weather_data_pd.iloc[16:18]\n",
    "print('Using the same index, we will print the rows 16 and 17 and show that the NaN values have been changed to 0')\n",
    "print(' ')\n",
    "print(same_index['pressure'])"
   ]
  },
  {
   "cell_type": "code",
   "execution_count": null,
   "id": "d45ead35",
   "metadata": {},
   "outputs": [],
   "source": []
  },
  {
   "cell_type": "code",
   "execution_count": 214,
   "id": "c4a06047",
   "metadata": {},
   "outputs": [
    {
     "name": "stdout",
     "output_type": "stream",
     "text": [
      "There were 671 observations made in Feburary\n"
     ]
    }
   ],
   "source": [
    "#Use weather_data_np\n",
    "#Question 9 How many observations were made in Feburary? Int\n",
    "feb = weather_data_np[weather_data_np[:, 3] == 2]\n",
    "\n",
    "num_observations = feb.shape[0]\n",
    "\n",
    "print('There were', num_observations ,'observations made in Feburary')\n",
    "\n",
    "#type(num_observations)"
   ]
  },
  {
   "cell_type": "code",
   "execution_count": null,
   "id": "ccc467e7",
   "metadata": {},
   "outputs": [],
   "source": []
  },
  {
   "cell_type": "code",
   "execution_count": 215,
   "id": "ed35bb87",
   "metadata": {},
   "outputs": [
    {
     "name": "stdout",
     "output_type": "stream",
     "text": [
      "The mean humidity in February was 62.918152011922515\n"
     ]
    }
   ],
   "source": [
    "#Question 10 What was the mean for humidity in February? Float\n",
    "humidity_mean = np.mean(feb[:, 8])\n",
    "print('The mean humidity in February was', humidity_mean )\n",
    "\n",
    "#type(humidity_mean)"
   ]
  },
  {
   "cell_type": "code",
   "execution_count": null,
   "id": "56517db0",
   "metadata": {},
   "outputs": [],
   "source": []
  },
  {
   "cell_type": "code",
   "execution_count": 216,
   "id": "f4c92b6a",
   "metadata": {},
   "outputs": [
    {
     "name": "stdout",
     "output_type": "stream",
     "text": [
      "The standard deviation for humidity in February was 20.33690087674334\n"
     ]
    }
   ],
   "source": [
    "#Question 11 What was the std for humidity in February? Float\n",
    "std_humid_feb = np.std(feb[:, 8])\n",
    "\n",
    "print('The standard deviation for humidity in February was', std_humid_feb)\n",
    "#type(std_humid_feb)"
   ]
  },
  {
   "cell_type": "code",
   "execution_count": null,
   "id": "ec1d27c2",
   "metadata": {},
   "outputs": [],
   "source": []
  }
 ],
 "metadata": {
  "kernelspec": {
   "display_name": "Python 3 (ipykernel)",
   "language": "python",
   "name": "python3"
  },
  "language_info": {
   "codemirror_mode": {
    "name": "ipython",
    "version": 3
   },
   "file_extension": ".py",
   "mimetype": "text/x-python",
   "name": "python",
   "nbconvert_exporter": "python",
   "pygments_lexer": "ipython3",
   "version": "3.9.12"
  }
 },
 "nbformat": 4,
 "nbformat_minor": 5
}

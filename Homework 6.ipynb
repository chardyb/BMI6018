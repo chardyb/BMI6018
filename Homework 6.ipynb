{
 "cells": [
  {
   "cell_type": "code",
   "execution_count": null,
   "id": "b43f84d9",
   "metadata": {},
   "outputs": [],
   "source": [
    "#Carter Hardy"
   ]
  },
  {
   "cell_type": "code",
   "execution_count": null,
   "id": "775b6f95",
   "metadata": {},
   "outputs": [],
   "source": []
  },
  {
   "cell_type": "code",
   "execution_count": null,
   "id": "ad29552a",
   "metadata": {},
   "outputs": [],
   "source": [
    "#1.a\n",
    "#Using the print() function only, get the wrong_add_function to print out where\n",
    "#it is making a mistake, given the expected output for ex, \"we are making an error \n",
    "#in the loop\", which you would put near the loop. \n",
    "#Structure the print() statement to show what the expected output ought to be\n",
    "#via f-strings: ie \"The correct answer is supposed to be: [...]\"."
   ]
  },
  {
   "cell_type": "code",
   "execution_count": null,
   "id": "b066c28a",
   "metadata": {},
   "outputs": [],
   "source": []
  },
  {
   "cell_type": "code",
   "execution_count": 26,
   "id": "3d8a52fa",
   "metadata": {},
   "outputs": [
    {
     "name": "stdout",
     "output_type": "stream",
     "text": [
      "1.a\n",
      "We are making an error in the loop, arg_2_sum is equal to 6\n",
      "The expected answer should be 2\n",
      "We are making an error in the loop, arg_2_sum is equal to 6\n",
      "The expected answer should be 2\n",
      "We are making an error in the loop, arg_2_sum is equal to 6\n",
      "The expected answer should be 2\n",
      "[6, 2, 3]\n",
      "We are making an error in the loop, arg_2_sum is equal to 9\n",
      "The expected answer should be 3\n",
      "We are making an error in the loop, arg_2_sum is equal to 9\n",
      "The expected answer should be 3\n",
      "We are making an error in the loop, arg_2_sum is equal to 9\n",
      "The expected answer should be 3\n",
      "[6, 9, 3]\n",
      "We are making an error in the loop, arg_2_sum is equal to 12\n",
      "The expected answer should be 4\n",
      "We are making an error in the loop, arg_2_sum is equal to 12\n",
      "The expected answer should be 4\n",
      "We are making an error in the loop, arg_2_sum is equal to 12\n",
      "The expected answer should be 4\n",
      "[6, 9, 12]\n",
      "Expected answer should be [2,3,4]\n"
     ]
    }
   ],
   "source": [
    "def wrong_add_function(arg1,arg2):\n",
    "   #'''\n",
    "   #The function takes in two lists of integers, then it adds\n",
    "   #all of arg2 to each item of arg1.\n",
    "   \n",
    "   #Example:\n",
    "      #> wrong_add_function([1,2,3],[1,1,1])\n",
    "      #> [6,9,12]\n",
    "\n",
    "   #whereas the expected correct answer is, [2,3,4]\n",
    "\n",
    "   #Parameters\n",
    "   #----------\n",
    "   #arg1 : list\n",
    "      #list of integers.\n",
    "   #arg2 : list\n",
    "      #list of integers.\n",
    "\n",
    "   #Returns\n",
    "   #-------\n",
    "   #arg1 : list\n",
    "      #Elements of arg1, with each element having had the contents of \n",
    "      #arg2 added to it.\n",
    "\n",
    "   #'''\n",
    "    print(\"1.a\")\n",
    "    arg1_index=0\n",
    "    \n",
    "    while arg1_index < len(arg1):\n",
    "    \n",
    "        arg_2_sum = 0\n",
    "        \n",
    "        for arg2_elements in arg2:\n",
    "        \n",
    "            arg_2_sum = sum([arg1[arg1_index]+i for i in arg2])\n",
    "            \n",
    "            print(\"We are making an error in the loop, arg_2_sum is equal to\", arg_2_sum)\n",
    "            print(\"The expected answer should be\", arg1_index+2)\n",
    "        arg1[arg1_index]=arg_2_sum\n",
    "        \n",
    "        print(arg1)\n",
    "        arg1_index+=1\n",
    "        \n",
    "    return arg1\n",
    "\n",
    "arg1 = [1,2,3]\n",
    "arg2 = [1,1,1]\n",
    "\n",
    "wrong_add_function(arg1, arg2)\n",
    "print(\"Expected answer should be [2,3,4]\")"
   ]
  },
  {
   "cell_type": "code",
   "execution_count": null,
   "id": "5921d970",
   "metadata": {},
   "outputs": [],
   "source": [
    "#1.b\n",
    "#Then, changing as little as possible, modify the function, using the same \n",
    "#general structure to output the correct answer. Call this new function \n",
    "#correct_add_function() "
   ]
  },
  {
   "cell_type": "code",
   "execution_count": 27,
   "id": "17a0d053",
   "metadata": {},
   "outputs": [],
   "source": [
    "#I only changed the for loop to correct the code to add correctly"
   ]
  },
  {
   "cell_type": "code",
   "execution_count": 104,
   "id": "7e3cf13a",
   "metadata": {},
   "outputs": [
    {
     "name": "stdout",
     "output_type": "stream",
     "text": [
      "we are correctly progressing through the index position 0 [2, 2, 3]\n",
      "we are correctly progressing through the index position 1 [2, 3, 3]\n",
      "we are correctly progressing through the index position 2 [2, 3, 4]\n",
      "[2, 3, 4]\n",
      "This is the expected answer and added correctly\n"
     ]
    }
   ],
   "source": [
    "def correct_add_function(arg1,arg2):\n",
    "    \n",
    "    arg1_index=0\n",
    "    \n",
    "    while arg1_index < len(arg1):\n",
    "        \n",
    "        arg_2_sum = 0\n",
    "        \n",
    "        for j in range(len(arg2)):\n",
    "            if j == arg1_index:\n",
    "                arg_2_sum = arg1[arg1_index] + arg2[j]\n",
    "\n",
    "        arg1[arg1_index] = arg_2_sum\n",
    "        \n",
    "        print(\"we are correctly progressing through the index position\",arg1_index,arg1)\n",
    "        arg1_index+=1\n",
    "        \n",
    "    return print(arg1)\n",
    "\n",
    "arg1 = [1,2,3]\n",
    "arg2 = [1,1,1]\n",
    "\n",
    "correct_add_function(arg1, arg2)\n",
    "\n",
    "print(\"This is the expected answer and added correctly\")"
   ]
  },
  {
   "cell_type": "code",
   "execution_count": null,
   "id": "30b00132",
   "metadata": {},
   "outputs": [],
   "source": [
    "#I attempted to keep my changes as minimal as possible to get the correct output"
   ]
  },
  {
   "cell_type": "code",
   "execution_count": null,
   "id": "39c2d3b5",
   "metadata": {},
   "outputs": [],
   "source": []
  },
  {
   "cell_type": "code",
   "execution_count": 42,
   "id": "10288be7",
   "metadata": {},
   "outputs": [],
   "source": [
    "#2.a\n",
    "#Update the numeric section of the function with your changes from 1 for both \n",
    "#2.b and 2.c"
   ]
  },
  {
   "cell_type": "code",
   "execution_count": 106,
   "id": "689ebb3b",
   "metadata": {},
   "outputs": [
    {
     "name": "stdout",
     "output_type": "stream",
     "text": [
      "None\n"
     ]
    }
   ],
   "source": [
    "def wrong_add_function(arg1,arg2):\n",
    "   \n",
    "    #numeric section \n",
    "    if sum([type(i)==int for i in arg1])==len(arg1) and \\\n",
    "        sum([type(i)==int for i in arg2])==len(arg2):\n",
    "            arg1_index=0\n",
    "            while arg1_index < len(arg1):\n",
    "                \n",
    "            #My changes\n",
    "                for j in range(len(arg2)):\n",
    "                    if j == arg1_index:\n",
    "                        arg_2_sum = arg1[arg1_index] + arg2[j]\n",
    "            \n",
    "                arg1[arg1_index]=arg_2_sum  \n",
    "                arg1_index+=1\n",
    "            return arg1\n",
    "            \n",
    "   #string section\n",
    "    elif sum([type(i)==str for i in arg1])==len(arg1) and \\\n",
    "        sum([type(i)==str for i in arg2])==len(arg2):\n",
    "        arg1_index=0\n",
    "        while arg1_index < len(arg1):\n",
    "            arg_2_sum = ''\n",
    "            for arg2_elements in arg2:\n",
    "                arg_2_sum += arg2_elements\n",
    "                    \n",
    "            arg1[arg1_index]=arg1[arg1_index]+str(arg_2_sum)\n",
    "            arg1_index+=1\n",
    "        return arg1\n",
    "arg_str_1=[\"1\",\"2\",\"3\"]\n",
    "arg_str_2=[\"1\",\"1\", 1]\n",
    "\n",
    "print(wrong_add_function(arg_str_1,arg_str_2))"
   ]
  },
  {
   "cell_type": "code",
   "execution_count": 107,
   "id": "e59defdf",
   "metadata": {},
   "outputs": [],
   "source": [
    "# I updated the numeric section with my changes as the instructions said, the output is not correct\n",
    "#but I believe I did everything that was instructed of me for this problem 2.a"
   ]
  },
  {
   "cell_type": "code",
   "execution_count": null,
   "id": "b50d002f",
   "metadata": {},
   "outputs": [],
   "source": []
  },
  {
   "cell_type": "code",
   "execution_count": 108,
   "id": "e071ae2c",
   "metadata": {},
   "outputs": [],
   "source": [
    "#2.b\n",
    "#Without modifying the string section code itself or the input directly, \n",
    "#write a try, except block that catches the issue with the input below and \n",
    "#returns an error message to the user, in case users give invalid inputs,\n",
    "#(for example an input of [\"5\",\"2\", 5])\n",
    "#: \"Your input argument [1 or 2] at element [n]\n",
    "#is not of the expected type. Please change this and rerun. Name this function \n",
    "#exception_add_function()"
   ]
  },
  {
   "cell_type": "code",
   "execution_count": 221,
   "id": "3e2594f5",
   "metadata": {},
   "outputs": [
    {
     "data": {
      "text/plain": [
       "'Your input argument [1 or 2] at element [n] is not of the expected type. Please change this and rerun. Error: Input types do not match expected types for addition.'"
      ]
     },
     "execution_count": 221,
     "metadata": {},
     "output_type": "execute_result"
    }
   ],
   "source": [
    "def exception_add_function(arg1,arg2):\n",
    "    try:\n",
    "        #numeric section \n",
    "        if sum([type(i)==int for i in arg1])==len(arg1) and \\\n",
    "            sum([type(i)==int for i in arg2])==len(arg2):\n",
    "                arg1_index=0\n",
    "                while arg1_index < len(arg1):\n",
    "                    arg_2_sum = 0\n",
    "\n",
    "                #My changes\n",
    "                    for j in range(len(arg2)):\n",
    "                        if j == arg1_index:\n",
    "                            arg_2_sum = arg1[arg1_index] + arg2[j]\n",
    "\n",
    "                    arg1[arg1_index]=arg_2_sum  \n",
    "                    arg1_index+=1\n",
    "                return arg1\n",
    "\n",
    "       #string section\n",
    "        elif sum([type(i)==str for i in arg1])==len(arg1) and \\\n",
    "            sum([type(i)==str for i in arg2])==len(arg2):\n",
    "            arg1_index=0\n",
    "            while arg1_index < len(arg1):\n",
    "                arg_2_sum = ''\n",
    "                for arg2_elements in arg2:\n",
    "                    arg_2_sum += arg2_elements\n",
    "\n",
    "                arg1[arg1_index]=arg1[arg1_index]+str(arg_2_sum)\n",
    "                arg1_index+=1\n",
    "            return arg1\n",
    "        \n",
    "        raise TypeError(\"Input types do not match expected types for addition.\")\n",
    "    except TypeError as te:\n",
    "        return f\"Your input argument [1 or 2] at element [n] is not of the expected type. Please change this and rerun. Error: {str(te)}\"\n",
    "        \n",
    "arg_str_1=['1','2','3']\n",
    "arg_str_2=['1','1', 1]\n",
    "\n",
    "exception_add_function(arg_str_1,arg_str_2)"
   ]
  },
  {
   "cell_type": "code",
   "execution_count": null,
   "id": "fc4bed3c",
   "metadata": {},
   "outputs": [],
   "source": []
  },
  {
   "cell_type": "code",
   "execution_count": 110,
   "id": "45398334",
   "metadata": {},
   "outputs": [],
   "source": [
    "#2.c"
   ]
  },
  {
   "cell_type": "code",
   "execution_count": 111,
   "id": "80936209",
   "metadata": {},
   "outputs": [],
   "source": [
    "#Without modifying the string section code itself or the input directly, \n",
    "#write a try, except block that catches the issue with the input below and \n",
    "#gets it to process via the string section. IE, do not, outside the function,\n",
    "#change the values of arg_str_1 or arg_str_2. Name this function \n",
    "#correction_add_function(), i.e you will not be updating the wrong_add_function,\n",
    "#you will simply handle the error of wrong inputs in a seperate function, you want\n",
    "#the wrong_add_function to output its current result you are only bolstering the \n",
    "#function for edge cases ."
   ]
  },
  {
   "cell_type": "code",
   "execution_count": 222,
   "id": "1d1d40d7",
   "metadata": {},
   "outputs": [
    {
     "name": "stdout",
     "output_type": "stream",
     "text": [
      "['1111', '2111', '3111']\n"
     ]
    }
   ],
   "source": [
    "def wrong_add_function(arg1,arg2):\n",
    "   \n",
    "    #numeric section \n",
    "    if sum([type(i)==int for i in arg1])==len(arg1) and \\\n",
    "        sum([type(i)==int for i in arg2])==len(arg2):\n",
    "            arg1_index=0            \n",
    "            while arg1_index < len(arg1):\n",
    "                arg_2_sum = 0\n",
    "            \n",
    "            #My changes\n",
    "                for j in range(len(arg2)):\n",
    "                    if j == arg1_index:\n",
    "                        arg_2_sum = arg1[arg1_index] + arg2[j]\n",
    "            \n",
    "                arg1[arg1_index]=arg_2_sum  \n",
    "                arg1_index+=1\n",
    "            return arg1\n",
    "\n",
    "   #string section\n",
    "    elif sum([type(i)==str for i in arg1])==len(arg1) and \\\n",
    "        sum([type(i)==str for i in arg2])==len(arg2):\n",
    "        arg1_index=0\n",
    "        while arg1_index < len(arg1):\n",
    "            arg_2_sum = ''\n",
    "            for arg2_elements in arg2:\n",
    "                arg_2_sum += arg2_elements\n",
    "                    \n",
    "            arg1[arg1_index]=arg1[arg1_index]+str(arg_2_sum)\n",
    "            arg1_index+=1\n",
    "        return arg1\n",
    "arg_str_1=['1','2','3']\n",
    "arg_str_2=['1','1', 1]\n",
    "wrong_add_function(arg_str_1,arg_str_2)\n",
    "\n",
    "def correction_add_function(arg1, arg2):\n",
    "    try:\n",
    "        #check if both lists are uniformly integers\n",
    "        if all(isinstance(i, int) for i in arg1) and all(isinstance(i, int) for i in arg2):\n",
    "            return wrong_add_function(arg1, arg2)\n",
    "        #check if both lists are uniformly strings\n",
    "        elif all(isinstance(i,str) for i in arg1) and all(isinstance(i, str) for i in arg2):\n",
    "            return wrong_add_function(arg1, arg2)\n",
    "        else:\n",
    "            #convert all elements to strings if not uniformly one type\n",
    "            arg1_str = [str(item) for item in arg1]\n",
    "            arg2_str = [str(item) for item in arg2]\n",
    "            return wrong_add_function(arg1_str, arg2_str)\n",
    "    except TypeError as e:\n",
    "        print(f\"an error occured\")\n",
    "        return none\n",
    "    \n",
    "# Testing with mixed types\n",
    "arg_str_1 = ['1', '2', '3']\n",
    "arg_str_2 = ['1', '1', 1]\n",
    "\n",
    "print(correction_add_function(arg_str_1, arg_str_2))\n"
   ]
  },
  {
   "cell_type": "code",
   "execution_count": null,
   "id": "72337da2",
   "metadata": {},
   "outputs": [],
   "source": []
  }
 ],
 "metadata": {
  "kernelspec": {
   "display_name": "Python 3 (ipykernel)",
   "language": "python",
   "name": "python3"
  },
  "language_info": {
   "codemirror_mode": {
    "name": "ipython",
    "version": 3
   },
   "file_extension": ".py",
   "mimetype": "text/x-python",
   "name": "python",
   "nbconvert_exporter": "python",
   "pygments_lexer": "ipython3",
   "version": "3.9.12"
  }
 },
 "nbformat": 4,
 "nbformat_minor": 5
}

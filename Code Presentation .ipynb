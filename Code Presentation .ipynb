{
 "cells": [
  {
   "cell_type": "code",
   "execution_count": null,
   "id": "5547713e",
   "metadata": {},
   "outputs": [],
   "source": [
    "#Code Presentation\n",
    "#14-OCT\n",
    "#Simple Data Types Question 1"
   ]
  },
  {
   "cell_type": "code",
   "execution_count": null,
   "id": "df836beb",
   "metadata": {},
   "outputs": [],
   "source": [
    "#Carter Hardy"
   ]
  },
  {
   "cell_type": "code",
   "execution_count": null,
   "id": "0b544e79",
   "metadata": {},
   "outputs": [],
   "source": [
    "#boolean True + boolean True - boolean False = ?"
   ]
  },
  {
   "cell_type": "code",
   "execution_count": null,
   "id": "f3676540",
   "metadata": {},
   "outputs": [],
   "source": []
  },
  {
   "cell_type": "code",
   "execution_count": 4,
   "id": "fdf256f5",
   "metadata": {},
   "outputs": [],
   "source": [
    "#To break down what our question above will be, we need to find the values of boolean True and boolean False"
   ]
  },
  {
   "cell_type": "code",
   "execution_count": null,
   "id": "f092e3db",
   "metadata": {},
   "outputs": [],
   "source": []
  },
  {
   "cell_type": "code",
   "execution_count": null,
   "id": "10107c6c",
   "metadata": {},
   "outputs": [],
   "source": [
    "#The int() function will help us do this, the int() function converts a specific value into an integer number"
   ]
  },
  {
   "cell_type": "code",
   "execution_count": 12,
   "id": "91fc26e7",
   "metadata": {},
   "outputs": [
    {
     "name": "stdout",
     "output_type": "stream",
     "text": [
      "1\n"
     ]
    }
   ],
   "source": [
    "print(int(True))"
   ]
  },
  {
   "cell_type": "code",
   "execution_count": null,
   "id": "dd03240b",
   "metadata": {},
   "outputs": [],
   "source": [
    "#Now, we know that boolean True is equal to 1"
   ]
  },
  {
   "cell_type": "code",
   "execution_count": 5,
   "id": "a41a6bf4",
   "metadata": {},
   "outputs": [
    {
     "name": "stdout",
     "output_type": "stream",
     "text": [
      "0\n"
     ]
    }
   ],
   "source": [
    "print(int(False))"
   ]
  },
  {
   "cell_type": "code",
   "execution_count": null,
   "id": "dbf133ae",
   "metadata": {},
   "outputs": [],
   "source": [
    "#We can see that boolean False is equal to 0"
   ]
  },
  {
   "cell_type": "code",
   "execution_count": null,
   "id": "907734e9",
   "metadata": {},
   "outputs": [],
   "source": []
  },
  {
   "cell_type": "code",
   "execution_count": 6,
   "id": "ce70faef",
   "metadata": {},
   "outputs": [],
   "source": [
    "#Lets check what the answer would be if we only had 1 & 0 instead of boolean values"
   ]
  },
  {
   "cell_type": "code",
   "execution_count": 7,
   "id": "2de602b3",
   "metadata": {
    "scrolled": true
   },
   "outputs": [
    {
     "name": "stdout",
     "output_type": "stream",
     "text": [
      "2\n"
     ]
    }
   ],
   "source": [
    "print(1+1-0)"
   ]
  },
  {
   "cell_type": "code",
   "execution_count": null,
   "id": "e56647dd",
   "metadata": {},
   "outputs": [],
   "source": []
  },
  {
   "cell_type": "code",
   "execution_count": 8,
   "id": "1537afd8",
   "metadata": {},
   "outputs": [],
   "source": [
    "#Our answer for boolean True + boolean True - boolean False should equal 2"
   ]
  },
  {
   "cell_type": "code",
   "execution_count": 9,
   "id": "1dd24dbd",
   "metadata": {},
   "outputs": [
    {
     "name": "stdout",
     "output_type": "stream",
     "text": [
      "2\n"
     ]
    }
   ],
   "source": [
    "print(True + True - False)"
   ]
  },
  {
   "cell_type": "code",
   "execution_count": 10,
   "id": "54d25134",
   "metadata": {},
   "outputs": [],
   "source": [
    "#We got the correct answer of 2, we see that boolean True + boolean True - Boolean False is equal to 2\n",
    "#because the values are 1+1-0, so 1+1-0=2."
   ]
  }
 ],
 "metadata": {
  "kernelspec": {
   "display_name": "Python 3 (ipykernel)",
   "language": "python",
   "name": "python3"
  },
  "language_info": {
   "codemirror_mode": {
    "name": "ipython",
    "version": 3
   },
   "file_extension": ".py",
   "mimetype": "text/x-python",
   "name": "python",
   "nbconvert_exporter": "python",
   "pygments_lexer": "ipython3",
   "version": "3.9.12"
  }
 },
 "nbformat": 4,
 "nbformat_minor": 5
}

{
 "cells": [
  {
   "cell_type": "code",
   "execution_count": null,
   "id": "82c76f44",
   "metadata": {},
   "outputs": [],
   "source": [
    "#Carter Hardy\n",
    "#Oct-28-2024"
   ]
  },
  {
   "cell_type": "code",
   "execution_count": 2,
   "id": "27a3e4b0",
   "metadata": {},
   "outputs": [
    {
     "name": "stdout",
     "output_type": "stream",
     "text": [
      "Version Number: 1.21.5\n"
     ]
    }
   ],
   "source": [
    "#Question 1\n",
    "#Import numpy as np and print the version number.\n",
    "import numpy as np\n",
    "print(\"Version Number:\", np.__version__)"
   ]
  },
  {
   "cell_type": "code",
   "execution_count": 3,
   "id": "36cc9074",
   "metadata": {},
   "outputs": [
    {
     "data": {
      "text/plain": [
       "array([0, 1, 2, 3, 4, 5, 6, 7, 8, 9])"
      ]
     },
     "execution_count": 3,
     "metadata": {},
     "output_type": "execute_result"
    }
   ],
   "source": [
    "#Question 2\n",
    "#Create a 1D array of numbers from 0 to 9\n",
    "np.arange(0,10,1)\n",
    "\n",
    "#This is creating an array from 0 to 10 going in increments of 1, thus going from 0 to 9."
   ]
  },
  {
   "cell_type": "code",
   "execution_count": 26,
   "id": "5bc4188f",
   "metadata": {},
   "outputs": [
    {
     "name": "stdout",
     "output_type": "stream",
     "text": [
      "Test print of the first five rows to check it worked:\n",
      "[(5.1, 3.5, 1.4, 0.2, 'Iris-setosa') (4.9, 3. , 1.4, 0.2, 'Iris-setosa')\n",
      " (4.7, 3.2, 1.3, 0.2, 'Iris-setosa') (4.6, 3.1, 1.5, 0.2, 'Iris-setosa')\n",
      " (5. , 3.6, 1.4, 0.2, 'Iris-setosa')]\n"
     ]
    }
   ],
   "source": [
    "#Question 3\n",
    "#Import a dataset with numbers and texts keeping the text intact in python numpy.\n",
    "url = \"https://archive.ics.uci.edu/ml/machine-learning-databases/iris/iris.data\"\n",
    "\n",
    "data = np.genfromtxt(url, delimiter = \",\", dtype = [('sepal length', 'f8'),\n",
    "                                                    ('sepal width', 'f8'),\n",
    "                                                    ('petal length', 'f8'),\n",
    "                                                    ('petal width', 'f8'),\n",
    "                                                    ('species', 'U15')])\n",
    "print('Test print of the first five rows to check it worked:')\n",
    "print(data[:5])\n",
    "\n",
    "#I went to the UCI website to find the information about the column headers at this link\n",
    "#https://archive.ics.uci.edu/dataset/53/iris"
   ]
  },
  {
   "cell_type": "code",
   "execution_count": 15,
   "id": "1d72cd1c",
   "metadata": {},
   "outputs": [
    {
     "name": "stdout",
     "output_type": "stream",
     "text": [
      "The first occurrence of a value greater than 1.0 in petalwidth 4th column is:\n",
      " \n",
      "[(7., 3.2, 4.7, 1.4, 'Iris-versicolor')]\n"
     ]
    }
   ],
   "source": [
    "#Question 4\n",
    "#Find the position of the first occurrence of a value greater than 1.0 in petalwidth 4th column of iris dataset.\n",
    "\n",
    "petalwidth_gt_1 = data[data['petal_width'] > 1.0]\n",
    "\n",
    "print(\"The first occurrence of a value greater than 1.0 in petalwidth 4th column is:\")\n",
    "print(\" \")\n",
    "print(petalwidth_gt_1[:1])\n",
    "\n",
    "#This is using Boolean masking to find when it is \"True\" that petal_width is greater than 1, then I am printing \n",
    "#out the first occurence of it happening."
   ]
  },
  {
   "cell_type": "code",
   "execution_count": 27,
   "id": "6a683f61",
   "metadata": {},
   "outputs": [
    {
     "name": "stdout",
     "output_type": "stream",
     "text": [
      "The array a, with all values greater than 30 set to 30 and less than 10 set to 10:\n",
      " \n",
      "[27.62684215 14.64009987 21.80136195 30.         10.         10.\n",
      " 30.         30.         10.         29.17957314 30.         11.25090398\n",
      " 10.08108276 10.         11.76517714 30.         30.         10.\n",
      " 30.         14.42961361]\n"
     ]
    }
   ],
   "source": [
    "#Question 5\n",
    "#From the array a, replace all values greater than 30 to 30 and less than 10 to 10.\n",
    "\n",
    "#input\n",
    "np.random.seed(100)\n",
    "a = np.random.uniform(1,50, 20)\n",
    "\n",
    "a[a < 10] = 10.0\n",
    "a[a > 30] = 30.0\n",
    "\n",
    "print('The array a, with all values greater than 30 set to 30 and less than 10 set to 10:')\n",
    "print(' ')\n",
    "print(a)\n",
    "\n",
    "#This is using Boolean masking, finding when it is \"True\" that a is less than 10 or greater than 30 and setting \n",
    "#the value equal to 10 or 30 respectively. "
   ]
  },
  {
   "cell_type": "code",
   "execution_count": null,
   "id": "81afcfd5",
   "metadata": {},
   "outputs": [],
   "source": []
  }
 ],
 "metadata": {
  "kernelspec": {
   "display_name": "Python 3 (ipykernel)",
   "language": "python",
   "name": "python3"
  },
  "language_info": {
   "codemirror_mode": {
    "name": "ipython",
    "version": 3
   },
   "file_extension": ".py",
   "mimetype": "text/x-python",
   "name": "python",
   "nbconvert_exporter": "python",
   "pygments_lexer": "ipython3",
   "version": "3.9.12"
  }
 },
 "nbformat": 4,
 "nbformat_minor": 5
}
